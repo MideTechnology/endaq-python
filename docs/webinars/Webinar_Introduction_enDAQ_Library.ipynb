{
 "cells": [
  {
   "cell_type": "markdown",
   "metadata": {
    "id": "KoHzO0q06_8W",
    "pycharm": {
     "name": "#%% md\n"
    }
   },
   "source": [
    "# Introduction to the enDAQ library\n",
    "\n",
    "## Introduction\n",
    "\n",
    "This notebook and accompanying webinar was developed and released by the [enDAQ team](https://endaq.com/). This is the fourth \"chapter\" of our series on *Python for Mechanical Engineers*:\n",
    "\n",
    "1. [Get Started with Python](https://colab.research.google.com/drive/1_pcGtgJleapV9tz5WfuRuqfWryjqhPHy#scrollTo=ikUJITDDIp19)\n",
    "   * Blog: [Get Started with Python: Why and How Mechanical Engineers Should Make the Switch](https://blog.endaq.com/get-started-with-python-why-how-mechanical-engineers-should-make-the-switch)\n",
    "2. [Introduction to Numpy & Pandas for Data Analysis](https://colab.research.google.com/drive/1O-VwAdRoSlcrineAk0Jkd_fcw7mFGHa4#scrollTo=ce97q1ZcBiwj)\n",
    "3. [Introduction to Plotly for Plotting Data](https://colab.research.google.com/drive/1pag2pKQQW5amWgRykAH8uMAPqHA2yUfU)\n",
    "4. **Introduction of the enDAQ Library**\n",
    "   * [Watch Recording of This](https://info.endaq.com/simplify-shock-and-vibration-analysis-with-endaq-python-library)\n",
    "5. [More Custom Examples](https://colab.research.google.com/drive/1cuZa5Yx55qXLhhnBMdzsJ0iiklwVi5Mq)\n",
    "\n",
    "To sign up for future webinars and watch previous ones, [visit our webinars page](https://endaq.com/pages/shock-vibration-webinars). "
   ]
  },
  {
   "cell_type": "markdown",
   "metadata": {
    "id": "A53tIlPkOWHR"
   },
   "source": [
    "## Why Did We Develop This?\n",
    "\n",
    "When analyzing data you'll need:\n",
    "\n",
    "- Customize a bit to meet your specific need \n",
    "- Share the results\n",
    "- Share the *methodology* \n",
    "- Reproduce the analysis for future/other data sets\n",
    "\n",
    "Writing scripts that produce highly interactive and custom plots addresses all of these needs. And that's why we created the open source enDAQ library - to make analysis more convenient, adaptable and reliable!"
   ]
  },
  {
   "cell_type": "markdown",
   "metadata": {
    "id": "U0pK-5cVR3r8"
   },
   "source": [
    "## Docs\n",
    "\n",
    "All of our functions are documented at www.docs.endaq.com\n",
    "![](https://info.endaq.com/hubfs/docs.png)\n",
    "\n",
    "The code itself lives on github at: https://github.com/MideTechnology/endaq-python"
   ]
  },
  {
   "cell_type": "markdown",
   "metadata": {
    "id": "XZW7Gt9F9Tk-"
   },
   "source": [
    "## Installation\n",
    "\n",
    "Installing is as easy as `pip install endaq` that is needed once when running locally, but everytime in Google Colab."
   ]
  },
  {
   "cell_type": "code",
   "execution_count": 1,
   "metadata": {
    "colab": {
     "base_uri": "https://localhost:8080/"
    },
    "id": "Zio_ttH09QpW",
    "outputId": "01cb0639-cc27-4dc1-e89b-5851d37686e5"
   },
   "outputs": [
    {
     "name": "stderr",
     "output_type": "stream",
     "text": [
      "WARNING: You are using pip version 21.1.2; however, version 22.0.3 is available.\n",
      "You should consider upgrading via the 'c:\\users\\cflanigan\\documents\\endaq\\endaq-python\\endaq-python\\venv\\scripts\\python.exe -m pip install --upgrade pip' command.\n"
     ]
    }
   ],
   "source": [
    "!pip install -q endaq\n",
    "exit() #needed in Colab because they pre-load some libraries"
   ]
  },
  {
   "cell_type": "code",
   "execution_count": null,
   "metadata": {
    "id": "v68NcIaE9qO3",
    "pycharm": {
     "is_executing": true
    }
   },
   "outputs": [],
   "source": [
    "import endaq\n",
    "\n",
    "import plotly.express as px\n",
    "import plotly.io as pio; pio.renderers.default = \"iframe\"\n",
    "import plotly.graph_objects as go\n",
    "import pandas as pd\n",
    "import numpy as np\n",
    "import scipy"
   ]
  },
  {
   "cell_type": "markdown",
   "metadata": {
    "id": "Mx31pcyV9V-g"
   },
   "source": [
    "## Story 1: PSD of Large Time Series"
   ]
  },
  {
   "cell_type": "markdown",
   "metadata": {
    "id": "IqcEwzXm-mO5"
   },
   "source": [
    "### Accessing Data\n",
    "\n",
    "This first uses a function `endaq.ide.get_doc()` ([see docs](https://docs.endaq.com/en/latest/endaq/ide.html#endaq.ide.get_doc)) to load in an IDE file. This can accept locations locally, or hosted online. \n",
    "\n",
    "Please note that Python won't accept backslashes and there are a number of ways around this (libraries!). I typically add an 'r' before the string of the folder like so `r\"C:\\Users\\shanly\"+\"\\\\\"` which ends up becoming: `'C:\\\\Users\\\\shanly\\\\'`. For more [see Python's docs](https://docs.python.org/3/reference/lexical_analysis.html#string-and-bytes-literals)."
   ]
  },
  {
   "cell_type": "code",
   "execution_count": null,
   "metadata": {
    "id": "y9l6f4vW9SY7",
    "pycharm": {
     "is_executing": true
    }
   },
   "outputs": [],
   "source": [
    "doc = endaq.ide.get_doc('https://info.endaq.com/hubfs/data/Sys034_1.ide')"
   ]
  },
  {
   "cell_type": "markdown",
   "metadata": {
    "id": "_cPMC9ahUASz"
   },
   "source": [
    "There are a lot of elements to this object that you can explore with `doc.__dict__` but my favorite is to grab the serial number and part number."
   ]
  },
  {
   "cell_type": "code",
   "execution_count": null,
   "metadata": {
    "colab": {
     "base_uri": "https://localhost:8080/"
    },
    "id": "DP9EmEKTT_tO",
    "outputId": "c8c9c40b-0334-4090-e4f8-212ca9762e4c",
    "pycharm": {
     "is_executing": true
    }
   },
   "outputs": [],
   "source": [
    "print(doc.recorderInfo['PartNumber'])\n",
    "print(doc.recorderInfo['RecorderSerial'])"
   ]
  },
  {
   "cell_type": "markdown",
   "metadata": {
    "id": "ybFxTAVcRh62"
   },
   "source": [
    "Once the file is loaded, we are using the `endaq.ide.get_channel_table()` ([see docs](https://docs.endaq.com/en/latest/endaq/ide.html#endaq.ide.get_channel_table)) which will present the contents of the file. \n",
    "\n",
    "This file is modestly sized at 140 MB."
   ]
  },
  {
   "cell_type": "code",
   "execution_count": null,
   "metadata": {
    "colab": {
     "base_uri": "https://localhost:8080/",
     "height": 455
    },
    "id": "BiMbL0IbRdUv",
    "outputId": "9ea22357-05d7-4f81-f66e-30dc8f2171f4",
    "pycharm": {
     "is_executing": true
    }
   },
   "outputs": [],
   "source": [
    "table = endaq.ide.get_channel_table(doc)\n",
    "table"
   ]
  },
  {
   "cell_type": "markdown",
   "metadata": {
    "id": "uXfZEVG7kEns"
   },
   "source": [
    "If you need to parse this `table` dataframe to sort it, find channels of interest, etc., you'll need to grab the data like so."
   ]
  },
  {
   "cell_type": "code",
   "execution_count": null,
   "metadata": {
    "colab": {
     "base_uri": "https://localhost:8080/",
     "height": 455
    },
    "id": "fpnZ_cnFj6eF",
    "outputId": "c509f61e-e839-438f-ea94-684a64c52a61",
    "pycharm": {
     "is_executing": true
    }
   },
   "outputs": [],
   "source": [
    "table.data"
   ]
  },
  {
   "cell_type": "markdown",
   "metadata": {
    "id": "8d6gOz4yk_Q6"
   },
   "source": [
    "Ok, now that we have IDE file, let's get the data out! This is using the `endaq.ide.to_pandas()` ([see docs](https://docs.endaq.com/en/latest/endaq/ide.html#endaq.ide.to_pandas)) to pull out every channel into a dictionary with keys of the channel name."
   ]
  },
  {
   "cell_type": "code",
   "execution_count": null,
   "metadata": {
    "colab": {
     "base_uri": "https://localhost:8080/"
    },
    "id": "k3VKBw1flWfF",
    "outputId": "6eeab551-3300-4ba7-a043-3d8d541068ae",
    "pycharm": {
     "is_executing": true
    }
   },
   "outputs": [],
   "source": [
    "data = {doc.channels[ch].name: endaq.ide.to_pandas(doc.channels[ch], time_mode='datetime') for ch in doc.channels}\n",
    "data"
   ]
  },
  {
   "cell_type": "markdown",
   "metadata": {
    "id": "olpxpg2UlYyM"
   },
   "source": [
    "### Dashboard of an IDE File\n",
    "We can pass this into a plot function to display a dashboard! Here are [the docs](https://docs.endaq.com/en/latest/endaq/plot.html#endaq.plot.dashboards.rolling_enveloped_dashboard), this accepts a dictionary of dataframes to display a bunch of sub plots for every channel/column."
   ]
  },
  {
   "cell_type": "code",
   "execution_count": null,
   "metadata": {
    "colab": {
     "base_uri": "https://localhost:8080/",
     "height": 1000
    },
    "id": "1bQksD4tdoWm",
    "outputId": "c8e9cea7-15ba-4647-9587-ca3bc3a386ed",
    "pycharm": {
     "is_executing": true
    }
   },
   "outputs": [],
   "source": [
    "fig = endaq.plot.dashboards.rolling_enveloped_dashboard(\n",
    "    data,\n",
    "    desired_num_points=100,\n",
    "    min_points_to_plot=1,\n",
    "    plot_as_bars=True,\n",
    ")\n",
    "fig.show()"
   ]
  },
  {
   "cell_type": "markdown",
   "metadata": {
    "id": "K7TbA0EeW-k_"
   },
   "source": [
    "### New Plotting Theme\n",
    "\n",
    "We've developed four Plotly themes (although really just two):\n",
    "1. endaq\n",
    "2. endaq_light\n",
    "3. endaq_cloud (Open Sans Font)\n",
    "4. endaq_cloud_light (Open Sans Font)\n",
    "\n",
    "The `set_theme()` function creates the above four themes and makes one the default. \n",
    "\n",
    "This uses a helper function, `define_theme()` which we recommend to those that may want to develop their own theme. [Here are the docs](https://docs.endaq.com/en/latest/endaq/plot.html#endaq.plot.utilities.define_theme)."
   ]
  },
  {
   "cell_type": "code",
   "execution_count": null,
   "metadata": {
    "colab": {
     "base_uri": "https://localhost:8080/",
     "height": 1000
    },
    "id": "r3pKvUgvzvg-",
    "outputId": "78c88589-86e8-4261-ff25-cb98db42d83f",
    "pycharm": {
     "is_executing": true
    }
   },
   "outputs": [],
   "source": [
    "endaq.plot.utilities.set_theme()\n",
    "\n",
    "fig.update_layout(\n",
    "    template='endaq'\n",
    ")"
   ]
  },
  {
   "cell_type": "markdown",
   "metadata": {
    "id": "KfFd27fgzz7P"
   },
   "source": [
    "Remember these are plotly figures which can be saved as interactive HTML files."
   ]
  },
  {
   "cell_type": "code",
   "execution_count": null,
   "metadata": {
    "id": "fKk0ha-dzyXn",
    "pycharm": {
     "is_executing": true
    }
   },
   "outputs": [],
   "source": [
    "fig.write_html('dashboard.html',include_plotlyjs ='cdn')"
   ]
  },
  {
   "cell_type": "markdown",
   "metadata": {
    "id": "PWl0uWKwld1U"
   },
   "source": [
    "This function allows a lot of customization with how the dashboard is displayed."
   ]
  },
  {
   "cell_type": "code",
   "execution_count": null,
   "metadata": {
    "colab": {
     "base_uri": "https://localhost:8080/",
     "height": 437
    },
    "id": "gi1jIZCBUteU",
    "outputId": "e1646b34-b52e-4f1a-b975-97ad00dcedfd",
    "pycharm": {
     "is_executing": true
    }
   },
   "outputs": [],
   "source": [
    "endaq.plot.dashboards.rolling_enveloped_dashboard(\n",
    "    data,\n",
    "    desired_num_points=100,\n",
    "    min_points_to_plot=1,\n",
    "    plot_as_bars=False,\n",
    "    num_rows=1,\n",
    "    num_cols=None\n",
    ")"
   ]
  },
  {
   "cell_type": "markdown",
   "metadata": {
    "id": "2A8g-CQ6PwPQ"
   },
   "source": [
    "This dashboard can be used on any collection of dataframes, not just from an IDE file. "
   ]
  },
  {
   "cell_type": "code",
   "execution_count": null,
   "metadata": {
    "id": "AjawpV_aPuPO",
    "pycharm": {
     "is_executing": true
    }
   },
   "outputs": [],
   "source": [
    "csv_data = {\n",
    "    'crash':pd.read_csv('https://info.endaq.com/hubfs/data/Motorcycle-Car-Crash.csv',index_col=0),\n",
    "    'moto':pd.read_csv('https://info.endaq.com/hubfs/data/motorcycle-vibration-moving-frequency.csv',index_col=0),\n",
    "    'instrument':pd.read_csv('https://info.endaq.com/hubfs/data/surgical-instrument.csv',index_col=0),\n",
    "    'rocket':pd.read_csv('https://info.endaq.com/hubfs/data/blushift.csv',index_col=0),\n",
    "    'calibration':pd.read_csv('https://info.endaq.com/hubfs/data/Calibration-Shake.csv',index_col=0),\n",
    "    'baseball':pd.read_csv('https://info.endaq.com/hubfs/data/baseball-throw-acceleration.csv',index_col=0, header=None, names=['X','Y','Z']),\n",
    "    'volleyball':pd.read_csv('https://info.endaq.com/hubfs/data/volleyball-hit-acceleration.csv',index_col=0, header=None, names=['X','Y','Z']),\n",
    "    'football':pd.read_csv('https://info.endaq.com/hubfs/data/football-catch-acceleration.csv',index_col=0, header=None, names=['X','Y','Z']),\n",
    "}"
   ]
  },
  {
   "cell_type": "code",
   "execution_count": null,
   "metadata": {
    "colab": {
     "base_uri": "https://localhost:8080/",
     "height": 1000
    },
    "id": "2kcbyfceQnbU",
    "outputId": "9b711295-1d17-4e4e-b6d3-28310c84dcc8",
    "pycharm": {
     "is_executing": true
    }
   },
   "outputs": [],
   "source": [
    "endaq.plot.dashboards.rolling_enveloped_dashboard(\n",
    "    csv_data,\n",
    "    desired_num_points=100,\n",
    "    min_points_to_plot=1,\n",
    "    plot_as_bars=True,\n",
    ")"
   ]
  },
  {
   "cell_type": "markdown",
   "metadata": {
    "id": "6m00dqjDVdwh"
   },
   "source": [
    "We also have a related function to compute some rolling metrics, not just the envelope. Here I will plot the rolling peak and standard deviation (effectively the RMS). [See the docs](https://docs.endaq.com/en/latest/endaq/plot.html#endaq.plot.dashboards.rolling_metric_dashboard)."
   ]
  },
  {
   "cell_type": "code",
   "execution_count": null,
   "metadata": {
    "colab": {
     "base_uri": "https://localhost:8080/",
     "height": 1000
    },
    "id": "x_qgFqNKNI3Q",
    "outputId": "d95a0608-74e5-4d0d-e2ad-9dc5242aefb1",
    "pycharm": {
     "is_executing": true
    }
   },
   "outputs": [],
   "source": [
    "endaq.plot.dashboards.rolling_metric_dashboard(\n",
    "    csv_data,\n",
    "    desired_num_points=100,\n",
    "    rolling_metrics_to_plot = ('absolute max', 'std')\n",
    ")"
   ]
  },
  {
   "cell_type": "markdown",
   "metadata": {
    "id": "9O0vkzXEVt-P"
   },
   "source": [
    "No let's go back to that big dataset and look at our dataframes within it."
   ]
  },
  {
   "cell_type": "code",
   "execution_count": null,
   "metadata": {
    "colab": {
     "base_uri": "https://localhost:8080/"
    },
    "id": "fXmQH3MNewKQ",
    "outputId": "5b135791-4185-48da-919f-f74220e39950",
    "pycharm": {
     "is_executing": true
    }
   },
   "outputs": [],
   "source": [
    "data.keys()"
   ]
  },
  {
   "cell_type": "code",
   "execution_count": null,
   "metadata": {
    "colab": {
     "base_uri": "https://localhost:8080/",
     "height": 454
    },
    "id": "a8tWQywmfFEF",
    "outputId": "6610aa69-61f7-4b00-de5f-63300873bc3a",
    "pycharm": {
     "is_executing": true
    }
   },
   "outputs": [],
   "source": [
    "data['100g PE Acceleration']"
   ]
  },
  {
   "cell_type": "markdown",
   "metadata": {
    "id": "iOHosbIuV9z4"
   },
   "source": [
    "If you want to skip this step we just went through (load all data, present dashboard) and you know which channel is of interest, you can directly load in that data with `endaq.ide.to_pandas()` ([see docs](https://docs.endaq.com/en/latest/endaq/ide.html#endaq.ide.to_pandas)). \n",
    "\n",
    "This defaults to present the time with datetime objects which is helpful for synchronization. You can pass in `time_mode='seconds'` to just get the time as seconds if preferred."
   ]
  },
  {
   "cell_type": "code",
   "execution_count": null,
   "metadata": {
    "colab": {
     "base_uri": "https://localhost:8080/",
     "height": 454
    },
    "id": "xeO8XgQs-RVO",
    "outputId": "6e9e9cea-fd8c-4293-e62e-629d85c02d7b",
    "pycharm": {
     "is_executing": true
    }
   },
   "outputs": [],
   "source": [
    "accel = endaq.ide.to_pandas(doc.channels[8])\n",
    "accel"
   ]
  },
  {
   "cell_type": "markdown",
   "metadata": {
    "id": "m5J6BB07A7Ap"
   },
   "source": [
    "### High Pass Filter\n",
    "\n",
    "If you noticed, the DC offset on the piezoelectric accelerometer was a bit wonky which should be filtered away. Even if there isn't an egregious DC offset like this example, it is still recommended to apply this filter when doing vibration analysis.\n",
    "\n",
    "This uses our `endaq.calc.filters.butterworth()` ([see docs](https://docs.endaq.com/en/latest/endaq/calc.html#endaq.calc.filters.butterworth)) to filter intuitively."
   ]
  },
  {
   "cell_type": "code",
   "execution_count": null,
   "metadata": {
    "colab": {
     "base_uri": "https://localhost:8080/",
     "height": 454
    },
    "id": "Bz5SqHLhA-Bx",
    "outputId": "db06db80-3295-49ea-ac2d-d12b1bd2c69a",
    "pycharm": {
     "is_executing": true
    }
   },
   "outputs": [],
   "source": [
    "filtered = endaq.calc.filters.butterworth(accel, low_cutoff=2)\n",
    "filtered"
   ]
  },
  {
   "cell_type": "markdown",
   "metadata": {
    "id": "K3kq1GvF_-a0"
   },
   "source": [
    "### Plotting Large Time Series"
   ]
  },
  {
   "cell_type": "markdown",
   "metadata": {
    "id": "RS7g_awmWdnN"
   },
   "source": [
    "Now here's a function similar to the dashboard above that was based off a dictionary of dataframes with each subchannel/column of data getting its own plot.\n",
    "\n",
    "Here in `rolling_min_max_envelope()` ([see docs](https://docs.endaq.com/en/latest/endaq/plot.html#endaq.plot.rolling_min_max_envelope)) though we plot a single dataframe's data on one plot. When using `plot_as_bars` this view will appear identical to loading ALL of the data and plotting it, yet this operation is completed in <10 seconds and will be highly responsive.\n",
    "\n",
    "We are going to be making a lot of acceleration vs time plots, so I am going to simplify the labeling."
   ]
  },
  {
   "cell_type": "code",
   "execution_count": null,
   "metadata": {
    "id": "itX-LIrzWqsy",
    "pycharm": {
     "is_executing": true
    }
   },
   "outputs": [],
   "source": [
    "accel_time_labels = dict(\n",
    "    xaxis_title_text='',\n",
    "    yaxis_title_text='Acceleration (g)',\n",
    "    legend_title_text=''\n",
    ")"
   ]
  },
  {
   "cell_type": "code",
   "execution_count": null,
   "metadata": {
    "colab": {
     "base_uri": "https://localhost:8080/",
     "height": 542
    },
    "id": "br8AZi_kAIay",
    "outputId": "230e8ebb-6484-4cd7-edc7-532dafe13071",
    "pycharm": {
     "is_executing": true
    }
   },
   "outputs": [],
   "source": [
    "fig = endaq.plot.plots.rolling_min_max_envelope(\n",
    "    filtered,\n",
    "    desired_num_points=1000,\n",
    "    plot_as_bars=True,\n",
    "    opacity=0.7\n",
    "    )\n",
    "fig.update_layout(\n",
    "    accel_time_labels,\n",
    "    title_text='Filtered Time Series with 13M Points',\n",
    ")"
   ]
  },
  {
   "cell_type": "markdown",
   "metadata": {
    "id": "rp9h3JA5IjOw"
   },
   "source": [
    "### Linear PSD\n",
    "\n",
    "Now we have the data, let's generate a PSD on the whole thing with `psd.welch()`([see docs](https://docs.endaq.com/en/latest/endaq/calc.html#endaq.calc.psd.welch)), and add in the resultant (PSDs are squared, so the resultant is simply the sum)."
   ]
  },
  {
   "cell_type": "code",
   "execution_count": null,
   "metadata": {
    "colab": {
     "base_uri": "https://localhost:8080/",
     "height": 454
    },
    "id": "DdnIHEkhJFV9",
    "outputId": "62ce2ec6-9651-4cb3-a271-acdcf37a9912",
    "pycharm": {
     "is_executing": true
    }
   },
   "outputs": [],
   "source": [
    "psd = endaq.calc.psd.welch(filtered, bin_width=1)\n",
    "psd['Resultant'] = psd.sum(axis=1)\n",
    "psd"
   ]
  },
  {
   "cell_type": "markdown",
   "metadata": {
    "id": "AVxYxlv4yfnS"
   },
   "source": [
    "Remember this is a pandas dataframe, saving to csv is easy with `to_csv()` (or other file type, [see docs](https://pandas.pydata.org/docs/reference/api/pandas.DataFrame.to_csv.html))\n",
    "\n",
    "We're going to make a lot of PSDs so let's make the labeling easy."
   ]
  },
  {
   "cell_type": "code",
   "execution_count": null,
   "metadata": {
    "id": "D6nR4_zdyWbf",
    "pycharm": {
     "is_executing": true
    }
   },
   "outputs": [],
   "source": [
    "psd_labels = dict(\n",
    "    xaxis_title_text='Frequency (Hz)',\n",
    "    yaxis_title_text='Acceleration (g^2/Hz)',\n",
    "    legend_title_text='',\n",
    "    xaxis_type='log',\n",
    "    yaxis_type='log',\n",
    ")"
   ]
  },
  {
   "cell_type": "markdown",
   "metadata": {
    "id": "NmmH2hTKXntg"
   },
   "source": [
    "Now let's plot it in Plotly!"
   ]
  },
  {
   "cell_type": "code",
   "execution_count": null,
   "metadata": {
    "colab": {
     "base_uri": "https://localhost:8080/",
     "height": 542
    },
    "id": "Os_S-kyJIkaz",
    "outputId": "d4e9f305-508a-4003-d7bc-7087375e1816",
    "pycharm": {
     "is_executing": true
    }
   },
   "outputs": [],
   "source": [
    "fig = px.line(psd)\n",
    "fig.update_layout(\n",
    "    psd_labels,\n",
    "    title_text='Power Spectral Density',\n",
    ")"
   ]
  },
  {
   "cell_type": "markdown",
   "metadata": {
    "id": "S9gFGAPRJPJu"
   },
   "source": [
    "### Log PSD"
   ]
  },
  {
   "cell_type": "markdown",
   "metadata": {
    "id": "7aCpdHS7Xr0g"
   },
   "source": [
    "Once a linear PSD is computed, we have a function to convert it to octave spacing, [see docs](https://docs.endaq.com/en/latest/endaq/calc.html#endaq.calc.psd.to_octave)."
   ]
  },
  {
   "cell_type": "code",
   "execution_count": null,
   "metadata": {
    "colab": {
     "base_uri": "https://localhost:8080/",
     "height": 236
    },
    "id": "mdoax2YtIzKz",
    "outputId": "07e8cf0a-1218-46b3-a742-3d748b987037",
    "pycharm": {
     "is_executing": true
    }
   },
   "outputs": [],
   "source": [
    "oct_psd = endaq.calc.psd.to_octave(psd, fstart=4, octave_bins=3)\n",
    "oct_psd.head()"
   ]
  },
  {
   "cell_type": "markdown",
   "metadata": {
    "id": "Oq_Hamr-X2Uh"
   },
   "source": [
    "Using Plotly graph_objects, I'll add these lines to the existing plot."
   ]
  },
  {
   "cell_type": "code",
   "execution_count": null,
   "metadata": {
    "colab": {
     "base_uri": "https://localhost:8080/",
     "height": 542
    },
    "id": "0ezsK9SvJUie",
    "outputId": "a66106ff-5cd3-4f03-b7d2-d39324c49f3a",
    "pycharm": {
     "is_executing": true
    }
   },
   "outputs": [],
   "source": [
    "for c in oct_psd.columns:\n",
    "  fig.add_trace(go.Scattergl(\n",
    "      x=oct_psd.index,\n",
    "      y=oct_psd[c],\n",
    "      name=c+' Octave',\n",
    "      line_width=6,\n",
    "      line_dash='dash'\n",
    "  ))\n",
    "\n",
    "fig.show()  "
   ]
  },
  {
   "cell_type": "markdown",
   "metadata": {
    "id": "wKyim7zUUjAx"
   },
   "source": [
    "### Spectrogram\n",
    "\n",
    "Our spectrogram function ([see docs](https://docs.endaq.com/en/latest/endaq/plot.html#endaq.plot.octave_spectrogram)) allows for octave spaced frequency bins which drastically reduces the heatmap resolution needed and is arguably a better way to represent the data anyways. This is a spectrogram generated off 13M points and completed in 3 seconds."
   ]
  },
  {
   "cell_type": "code",
   "execution_count": null,
   "metadata": {
    "colab": {
     "base_uri": "https://localhost:8080/",
     "height": 542
    },
    "id": "FXK_Jm3oUiqD",
    "outputId": "084110cb-b3cb-4bed-c666-5559c4ac51c9",
    "pycharm": {
     "is_executing": true
    }
   },
   "outputs": [],
   "source": [
    "freqs, bins, Pxx, fig = endaq.plot.octave_spectrogram(filtered[['X (100g)']], window=12, bins_per_octave=6)\n",
    "fig.show()"
   ]
  },
  {
   "cell_type": "markdown",
   "metadata": {
    "id": "-NU2DyVz9Sp1"
   },
   "source": [
    "### Extracting a Subsection of IDE File\n",
    "\n",
    "With long files there may be subsections we'd like to pull out to save and share. This function does just that, ([see docs](https://docs.endaq.com/en/latest/endaq/ide.html)). "
   ]
  },
  {
   "cell_type": "code",
   "execution_count": null,
   "metadata": {
    "colab": {
     "base_uri": "https://localhost:8080/"
    },
    "id": "saU3glXd_RC_",
    "outputId": "10b60c32-629b-49ed-ee34-98ac480a9459",
    "pycharm": {
     "is_executing": true
    }
   },
   "outputs": [],
   "source": [
    "endaq.ide.extract_time(doc, \n",
    "                       out='extracted.ide', \n",
    "                       start=pd.to_datetime('2021-10-22 09:17:15'),\n",
    "                       end=pd.to_datetime('2021-10-22 09:17:25'))"
   ]
  },
  {
   "cell_type": "markdown",
   "metadata": {
    "id": "oRMfphexZduT"
   },
   "source": [
    "Within Python and with dataframes, remember we can easily \"slice\" the data to focus on areas of interest. Here I'll generate a PSD on a 10 second period of a fixed operating state."
   ]
  },
  {
   "cell_type": "code",
   "execution_count": null,
   "metadata": {
    "colab": {
     "base_uri": "https://localhost:8080/",
     "height": 542
    },
    "id": "zrTMS_xlTofP",
    "outputId": "ef18f877-feb2-4193-d292-f5098e77b0ab",
    "pycharm": {
     "is_executing": true
    }
   },
   "outputs": [],
   "source": [
    "psd = endaq.calc.psd.welch(filtered['2021-10-22 09:17:15':'2021-10-22 09:17:25'], bin_width=1)\n",
    "psd['Resultant'] = psd.sum(axis=1)\n",
    "\n",
    "fig = px.line(psd)\n",
    "fig.update_layout(\n",
    "    psd_labels,\n",
    "    title_text='Power Spectral Density from 9:17:15 to 9:17:25',\n",
    ")"
   ]
  },
  {
   "cell_type": "markdown",
   "metadata": {
    "id": "uqzdirohaDMZ"
   },
   "source": [
    "I knew that to be a particularly interesting time in the file because of the light data this user utilized... clever!"
   ]
  },
  {
   "cell_type": "code",
   "execution_count": null,
   "metadata": {
    "colab": {
     "base_uri": "https://localhost:8080/",
     "height": 542
    },
    "id": "VxHSqqLIaDqo",
    "outputId": "07c735ba-3577-47ee-c286-053dcf1bebde",
    "pycharm": {
     "is_executing": true
    }
   },
   "outputs": [],
   "source": [
    "fig = px.line(data['Light Sensor'][['Lux']][::4])\n",
    "fig.update_layout(\n",
    "    showlegend=False,\n",
    "    xaxis_title_text='',\n",
    "    yaxis_title_text=\"Light (Lux)\"\n",
    ")"
   ]
  },
  {
   "cell_type": "markdown",
   "metadata": {
    "id": "3mZLJf-2nUCN"
   },
   "source": [
    "## Story 2: Multiple Files\n",
    "We did a quick test with 3 devices on a shaker.\n",
    "![](https://info.endaq.com/hubfs/data/shaker-test.jpg)"
   ]
  },
  {
   "cell_type": "markdown",
   "metadata": {
    "id": "lHN4lDt1bJoO"
   },
   "source": [
    "I know I only care about the secondary accelerometer, so I can load that channel (80) directly on these **THREE** files."
   ]
  },
  {
   "cell_type": "code",
   "execution_count": null,
   "metadata": {
    "colab": {
     "base_uri": "https://localhost:8080/"
    },
    "id": "S5Q0J1miJ92o",
    "outputId": "34bbcf3c-9823-4e30-8b84-060efd72546e",
    "pycharm": {
     "is_executing": true
    }
   },
   "outputs": [],
   "source": [
    "data = {\n",
    "    'Shaker' : endaq.ide.to_pandas(endaq.ide.get_doc('https://info.endaq.com/hubfs/data/Transfer_Shaker.ide').channels[80]),\n",
    "    'Long Beam' : endaq.ide.to_pandas(endaq.ide.get_doc('https://info.endaq.com/hubfs/data/Transfer_Long_Beam.ide').channels[80]),\n",
    "    'Short Beam' : endaq.ide.to_pandas(endaq.ide.get_doc('https://info.endaq.com/hubfs/data/Transfer_Short_Beam.ide').channels[80])\n",
    "}\n",
    "data"
   ]
  },
  {
   "cell_type": "markdown",
   "metadata": {
    "id": "R2mGwyXaDgdx"
   },
   "source": [
    "### Dashboard\n",
    "\n",
    "With these three files, let's generate that dashboard again and compare them all in one figure (with shared x axes)."
   ]
  },
  {
   "cell_type": "code",
   "execution_count": null,
   "metadata": {
    "colab": {
     "base_uri": "https://localhost:8080/",
     "height": 1000
    },
    "id": "HZWLPCUMCpZw",
    "outputId": "1604dbb3-544f-4e7a-834a-d96753400ea4",
    "pycharm": {
     "is_executing": true
    }
   },
   "outputs": [],
   "source": [
    "fig = endaq.plot.dashboards.rolling_enveloped_dashboard(\n",
    "    data,\n",
    "    desired_num_points=500,\n",
    "    min_points_to_plot=1,\n",
    "    plot_as_bars=True,\n",
    ")\n",
    "fig.update_xaxes(matches='x')\n",
    "fig.show()"
   ]
  },
  {
   "cell_type": "markdown",
   "metadata": {
    "id": "ooJfDe1Z-ibs"
   },
   "source": [
    "### Single Plot Comparison\n",
    "\n",
    "We may want to compare them all in one plot, here I'll combine just the Z axis from each file. "
   ]
  },
  {
   "cell_type": "code",
   "execution_count": null,
   "metadata": {
    "colab": {
     "base_uri": "https://localhost:8080/",
     "height": 454
    },
    "id": "wFAFNAo__M2h",
    "outputId": "b9bc7133-8706-4653-cedd-7d59844be825",
    "pycharm": {
     "is_executing": true
    }
   },
   "outputs": [],
   "source": [
    "time_overall = pd.DataFrame()\n",
    "for device in data.keys():\n",
    "  #Get Y axis and filter\n",
    "  accel = endaq.calc.filters.butterworth(data[device]['Z (40g)'].to_frame(), low_cutoff=2) \n",
    "\n",
    "  #Rename the column as our test/device name\n",
    "  accel.columns = [device]\n",
    "\n",
    "  #Combine Times\n",
    "  time_overall = pd.concat([time_overall,accel])\n",
    "\n",
    "time_overall"
   ]
  },
  {
   "cell_type": "markdown",
   "metadata": {
    "id": "tQEuiDLacp6T"
   },
   "source": [
    "There is still 40,000 data points, so I'll use the rolling_envelope plot to simplify the plot."
   ]
  },
  {
   "cell_type": "code",
   "execution_count": null,
   "metadata": {
    "colab": {
     "base_uri": "https://localhost:8080/",
     "height": 542
    },
    "id": "IopRo7r9SJwL",
    "outputId": "b5ca4356-bfa4-47dc-a0a6-976a2674fb40",
    "pycharm": {
     "is_executing": true
    }
   },
   "outputs": [],
   "source": [
    "fig = endaq.plot.plots.rolling_min_max_envelope(\n",
    "    time_overall,\n",
    "    desired_num_points=1000,\n",
    "    plot_as_bars=True,\n",
    "    opacity=0.7\n",
    "    )\n",
    "fig.update_layout(\n",
    "    accel_time_labels,\n",
    "    title_text='Comparison of Acceleration in Time Domain',\n",
    ")\n",
    "fig.show()"
   ]
  },
  {
   "cell_type": "markdown",
   "metadata": {
    "id": "55UEPanIwLNF"
   },
   "source": [
    "### PSD Comparison\n",
    "\n",
    "Now let's compute a PSD for all of these, and combine into one dataframe by rounding to a shared frequency bin."
   ]
  },
  {
   "cell_type": "code",
   "execution_count": null,
   "metadata": {
    "colab": {
     "base_uri": "https://localhost:8080/",
     "height": 454
    },
    "id": "4aM2zPuhwPXy",
    "outputId": "420f8bdb-3b77-48af-c4c8-3e710123031e",
    "pycharm": {
     "is_executing": true
    }
   },
   "outputs": [],
   "source": [
    "psd_overall = pd.DataFrame()\n",
    "for device in data.keys():\n",
    "  #Get Z axis and filter\n",
    "  accel = endaq.calc.filters.butterworth(data[device]['Z (40g)'].to_frame(), low_cutoff=2) \n",
    "\n",
    "  #Get PSD\n",
    "  psd = endaq.calc.psd.welch(accel, bin_width = 0.5)\n",
    "\n",
    "  #Round to the nearest 0.5 Hz\n",
    "  psd.index = np.round(psd.index*2,0)/2 \n",
    "\n",
    "  #Rename the PSD column as our test/device name\n",
    "  psd.columns = [device]\n",
    "\n",
    "  #Combine PSDs\n",
    "  psd_overall = pd.concat([psd_overall,psd], axis=1)\n",
    "\n",
    "psd_overall"
   ]
  },
  {
   "cell_type": "code",
   "execution_count": null,
   "metadata": {
    "colab": {
     "base_uri": "https://localhost:8080/",
     "height": 542
    },
    "id": "OatD7vXGyJ6-",
    "outputId": "42a33f88-047e-4b2d-8bd7-824f4022b9b2",
    "pycharm": {
     "is_executing": true
    }
   },
   "outputs": [],
   "source": [
    "fig = px.line(psd_overall[4:500])\n",
    "fig.update_layout(\n",
    "    psd_labels,\n",
    "    title_text='PSD Comparison',\n",
    ")"
   ]
  },
  {
   "cell_type": "markdown",
   "metadata": {
    "id": "Ab8hSesNED1B"
   },
   "source": [
    "### Octave PSD"
   ]
  },
  {
   "cell_type": "code",
   "execution_count": null,
   "metadata": {
    "colab": {
     "base_uri": "https://localhost:8080/",
     "height": 542
    },
    "id": "WInQGWgBEIV8",
    "outputId": "018049d1-ab84-453f-8b17-c24a24707cf7",
    "pycharm": {
     "is_executing": true
    }
   },
   "outputs": [],
   "source": [
    "oct_psd = endaq.calc.psd.to_octave(psd_overall, fstart=4, octave_bins = 0.5)\n",
    "\n",
    "fig = px.line(oct_psd['Shaker'][:256])\n",
    "fig.update_layout(\n",
    "    psd_labels,\n",
    "    title_text='PSD Comparison',\n",
    "    template='endaq_light'\n",
    ")"
   ]
  },
  {
   "cell_type": "markdown",
   "metadata": {
    "id": "PXfTUbdbyvTK"
   },
   "source": [
    "### Transfer Function\n",
    "\n",
    "I can use the shaker data to compute a transfer function for the other devices on different length beams. This is accomplished by taking the square root of the ratio from the beam PSD to the shaker."
   ]
  },
  {
   "cell_type": "code",
   "execution_count": null,
   "metadata": {
    "colab": {
     "base_uri": "https://localhost:8080/",
     "height": 454
    },
    "id": "mNwSdTZKy1HV",
    "outputId": "f8b18006-7fd2-48d9-e7da-80be8997005c",
    "pycharm": {
     "is_executing": true
    }
   },
   "outputs": [],
   "source": [
    "transfer = psd_overall[5:240].copy().drop('Shaker',axis=1)\n",
    "for col in transfer.columns:\n",
    "    transfer[col] = (psd_overall[col]/psd_overall['Shaker']) ** 0.5\n",
    "transfer"
   ]
  },
  {
   "cell_type": "markdown",
   "metadata": {
    "id": "iqeOJJ-af3km"
   },
   "source": [
    "Now we can plot it to see the natural frequencies of these two beams."
   ]
  },
  {
   "cell_type": "code",
   "execution_count": null,
   "metadata": {
    "colab": {
     "base_uri": "https://localhost:8080/",
     "height": 542
    },
    "id": "ohexmPKgyw_I",
    "outputId": "eb45999e-6ab3-422a-cdfd-e436df1b6763",
    "pycharm": {
     "is_executing": true
    }
   },
   "outputs": [],
   "source": [
    "fig = px.line(transfer)\n",
    "fig.update_layout(\n",
    "    title_text='Transfer Function',\n",
    "    xaxis_title_text='Frequency (Hz)',\n",
    "    yaxis_title_text='Transfer (g/g)',\n",
    "    legend_title_text='',\n",
    "    xaxis_type='log',\n",
    "    yaxis_type='log',\n",
    ")\n"
   ]
  },
  {
   "cell_type": "markdown",
   "metadata": {
    "id": "APj5cD4VnWG4"
   },
   "source": [
    "### Integrate to Displacement\n",
    "\n",
    "We also have a function to integrate to velocity and displacement which is done here ([see docs](https://docs.endaq.com/en/latest/endaq/calc.html#endaq.calc.integrate.integrals))."
   ]
  },
  {
   "cell_type": "code",
   "execution_count": null,
   "metadata": {
    "colab": {
     "base_uri": "https://localhost:8080/"
    },
    "id": "uNr1_GOKnXfh",
    "outputId": "cea0116b-f944-4907-c6f7-b72f923e6d68",
    "pycharm": {
     "is_executing": true
    }
   },
   "outputs": [],
   "source": [
    "displacements = {}\n",
    "for device in data.keys():\n",
    "  #Get Z axis and filter\n",
    "  accel = data[device]['Z (40g)'].to_frame()\n",
    "\n",
    "  #Double Integrate to Displacement\n",
    "  [df_accel, df_vel] = endaq.calc.integrate.integrals(accel, n=1, highpass_cutoff=2, tukey_percent=0.2)\n",
    "  [df_vel, df_disp] = endaq.calc.integrate.integrals(df_vel, n=1, highpass_cutoff=2, tukey_percent=0.2)\n",
    "  df_disp = df_disp*9.81*39.37 #convert to in\n",
    "    \n",
    "  #Rename the column as our test/device name\n",
    "  df_disp.columns = [device]\n",
    "\n",
    "  #Combine Times\n",
    "  displacements[device] = df_disp\n",
    "\n",
    "displacements"
   ]
  },
  {
   "cell_type": "markdown",
   "metadata": {
    "id": "RYSSIczonX4q"
   },
   "source": [
    "### Resample at Slower Rate\n",
    "\n",
    "Displacement is dominated by lower frequency content, so we can reduce the amount of data by resampling at 200 Hz with another function."
   ]
  },
  {
   "cell_type": "code",
   "execution_count": null,
   "metadata": {
    "colab": {
     "base_uri": "https://localhost:8080/",
     "height": 422
    },
    "id": "7VtexHWVnYmi",
    "outputId": "c03f21b6-ec0e-49c8-f062-8fa3b4d2411a",
    "pycharm": {
     "is_executing": true
    }
   },
   "outputs": [],
   "source": [
    "displacement = pd.DataFrame()\n",
    "for device in displacements.keys():\n",
    "  #Resample at 100 Hz\n",
    "  disp_resampled = endaq.calc.utils.resample(displacements[device], sample_rate = 200)\n",
    "\n",
    "  #Rename the index name to help with \"melting\"\n",
    "  disp_resampled.index.name = 'index'\n",
    "\n",
    "  #Combine Into One DataFrame\n",
    "  displacement = pd.concat([displacement, disp_resampled.reset_index().melt(id_vars='index').dropna()])\n",
    "\n",
    "displacement"
   ]
  },
  {
   "cell_type": "code",
   "execution_count": null,
   "metadata": {
    "colab": {
     "base_uri": "https://localhost:8080/",
     "height": 542
    },
    "id": "M5p602HA6m8_",
    "outputId": "cdd4be70-1bd3-41aa-ea07-55c2da8c49d9",
    "pycharm": {
     "is_executing": true
    }
   },
   "outputs": [],
   "source": [
    "fig = px.line(displacement,\n",
    "             x='index',\n",
    "             y='value',\n",
    "             color='variable')\n",
    "fig.update_layout(\n",
    "    title_text = 'Z Axis Displacement Resampled at 200 Hz',\n",
    "    yaxis_title_text = 'Displacement (in)',\n",
    "    xaxis_title_text = '',\n",
    "    legend_title_text = '',\n",
    ")"
   ]
  },
  {
   "cell_type": "markdown",
   "metadata": {
    "id": "kwzoflCh93KI"
   },
   "source": [
    "Synchronization is quite impressive if I do say so myself!! Maybe off by about 0.003 seconds?"
   ]
  },
  {
   "cell_type": "markdown",
   "metadata": {
    "id": "h0Qelg4_Cauf"
   },
   "source": [
    "## Story 3: Shock Event\n",
    "\n",
    "Now let's analyze some data that was discussed in our [blog on the shock response spectrum](https://blog.endaq.com/shock-analysis-response-spectrum-srs-pseudo-velocity-severity)."
   ]
  },
  {
   "cell_type": "code",
   "execution_count": null,
   "metadata": {
    "colab": {
     "base_uri": "https://localhost:8080/",
     "height": 454
    },
    "id": "0Ricg86U7B0-",
    "outputId": "186861ae-b0aa-49bf-d5c6-df7c1db542b1",
    "pycharm": {
     "is_executing": true
    }
   },
   "outputs": [],
   "source": [
    "doc = endaq.ide.get_doc('https://info.endaq.com/hubfs/data/Motorcycle-Car-Crash.ide')\n",
    "accel = endaq.ide.to_pandas(doc.channels[8])\n",
    "accel"
   ]
  },
  {
   "cell_type": "markdown",
   "metadata": {
    "id": "ePTHCbL0SnJx"
   },
   "source": [
    "### Plot at Peak Time\n",
    "The `around_peak()` function ([see docs](https://docs.endaq.com/en/latest/endaq/plot.html#endaq.plot.around_peak)) takes in a dataframe and plots around the peak value across all columns."
   ]
  },
  {
   "cell_type": "code",
   "execution_count": null,
   "metadata": {
    "colab": {
     "base_uri": "https://localhost:8080/",
     "height": 542
    },
    "id": "GlntTv0hS3ly",
    "outputId": "b322e4dc-1b3d-4082-97d3-7a6a5cff7e46",
    "pycharm": {
     "is_executing": true
    }
   },
   "outputs": [],
   "source": [
    "fig = endaq.plot.plots.around_peak(\n",
    "    accel, \n",
    "    num=1500,\n",
    "    leading_ratio=0.4\n",
    "    )\n",
    "fig.update_layout(\n",
    "    accel_time_labels,\n",
    "    title_text='Acceleration Around Peak',\n",
    ")"
   ]
  },
  {
   "cell_type": "markdown",
   "metadata": {
    "id": "bLIKE1JNDsnK"
   },
   "source": [
    "### Low Pass Filter\n",
    "\n",
    "Now let's apply a bunch of low-pass filters ([see docs](https://docs.endaq.com/en/latest/endaq/calc.html#module-endaq.calc.filters))."
   ]
  },
  {
   "cell_type": "code",
   "execution_count": null,
   "metadata": {
    "colab": {
     "base_uri": "https://localhost:8080/",
     "height": 454
    },
    "id": "vpoy6wUoDvQo",
    "outputId": "5e87c489-bae4-448a-ef3d-d7574471699e",
    "pycharm": {
     "is_executing": true
    }
   },
   "outputs": [],
   "source": [
    "accel = accel['Y (500g)'].to_frame() #keep as a dataframe\n",
    "accel = (accel - accel.median()) * -1 #apply a high pass and make the shock positive acceleration\n",
    "\n",
    "accel.columns = ['No Low-Pass']\n",
    "freqs = [1600, 800, 400, 200, 100, 50]\n",
    "for freq in freqs:\n",
    "  name = 'Filtered at: '+str(freq)+' Hz'\n",
    "  accel[name] = endaq.calc.filters.butterworth(accel['No Low-Pass'].to_frame(), high_cutoff=freq)\n",
    "\n",
    "accel = accel['2019-07-03 17:05:08.4':'2019-07-03 17:05:08.55'] #isolate the time of interest\n",
    "accel = accel - accel.iloc[0] #force start to 0 to remove any filtering artifact\n",
    "accel"
   ]
  },
  {
   "cell_type": "code",
   "execution_count": null,
   "metadata": {
    "colab": {
     "base_uri": "https://localhost:8080/",
     "height": 542
    },
    "id": "DR4OKNKElBbO",
    "outputId": "0c6231dc-f6c2-44a7-fd13-2028b8aaeb2a",
    "pycharm": {
     "is_executing": true
    }
   },
   "outputs": [],
   "source": [
    "fig = px.line(accel)\n",
    "fig.update_layout(\n",
    "    accel_time_labels,\n",
    "    title_text='Motorcycle Car Crash, Effect of Filtering'\n",
    ")"
   ]
  },
  {
   "cell_type": "markdown",
   "metadata": {
    "id": "7KuvTN7VDx23"
   },
   "source": [
    "### Shock Response Spectrum\n",
    "\n",
    "First we need to define which frequencies we want to calculate and plot the SRS for."
   ]
  },
  {
   "cell_type": "code",
   "execution_count": null,
   "metadata": {
    "colab": {
     "base_uri": "https://localhost:8080/"
    },
    "id": "aKrLOnesDzZJ",
    "outputId": "4e2a2d15-3fb9-4053-fc5f-65a718c76c39",
    "pycharm": {
     "is_executing": true
    }
   },
   "outputs": [],
   "source": [
    "freqs = endaq.calc.utils.logfreqs(accel, init_freq=1, bins_per_octave=12)"
   ]
  },
  {
   "cell_type": "markdown",
   "metadata": {
    "id": "BiFCNtksT-0B"
   },
   "source": [
    "Now we can calculate the shock response spectrum ([see docs](https://docs.endaq.com/en/latest/endaq/calc.html#endaq.calc.shock.shock_spectrum))."
   ]
  },
  {
   "cell_type": "code",
   "execution_count": null,
   "metadata": {
    "id": "sM6VfZIqC3Na",
    "pycharm": {
     "is_executing": true
    }
   },
   "outputs": [],
   "source": [
    "srs = endaq.calc.shock.shock_spectrum(accel, freqs=freqs, damp=0.05, mode='srs')"
   ]
  },
  {
   "cell_type": "code",
   "execution_count": null,
   "metadata": {
    "colab": {
     "base_uri": "https://localhost:8080/",
     "height": 542
    },
    "id": "mGJZUhgtC6Li",
    "outputId": "a7be30e1-4272-4aac-9160-1f52755aedf7",
    "pycharm": {
     "is_executing": true
    }
   },
   "outputs": [],
   "source": [
    "fig = px.line(srs)\n",
    "fig.update_layout(\n",
    "    title_text='Shock Response Spectrum (SRS)',\n",
    "    xaxis_title_text=\"Natural Frequency (Hz)\",\n",
    "    yaxis_title_text=\"Peak Acceleration (g)\",\n",
    "    legend_title_text='',\n",
    "    xaxis_type=\"log\",\n",
    "    yaxis_type=\"log\",\n",
    "  )"
   ]
  },
  {
   "cell_type": "markdown",
   "metadata": {
    "id": "HViqyyYfDYlt"
   },
   "source": [
    "### Pseudo Velocity Shock Spectrum\n",
    "\n",
    "That function also allows us to calculate the PVSS."
   ]
  },
  {
   "cell_type": "code",
   "execution_count": null,
   "metadata": {
    "id": "EZz_6JGhC12Z",
    "pycharm": {
     "is_executing": true
    }
   },
   "outputs": [],
   "source": [
    "pvss = endaq.calc.shock.shock_spectrum(accel, freqs=freqs, damp=0.05, mode='pvss')\n",
    "pvss = pvss*9.81*39.37 #convert to in/s"
   ]
  },
  {
   "cell_type": "code",
   "execution_count": null,
   "metadata": {
    "colab": {
     "base_uri": "https://localhost:8080/",
     "height": 542
    },
    "id": "dTOLyPdmqA-I",
    "outputId": "8d32d05c-a4fd-4a3d-9428-084a0cfd9718",
    "pycharm": {
     "is_executing": true
    }
   },
   "outputs": [],
   "source": [
    "fig = px.line(pvss)\n",
    "fig.update_layout(\n",
    "    title_text='Psuedo Velocity Shock Spectrum (PVSS)',\n",
    "    xaxis_title_text=\"Natural Frequency (Hz)\",\n",
    "    yaxis_title_text=\"Psuedo Velocity (in/s)\",\n",
    "    legend_title_text='',\n",
    "    xaxis_type=\"log\",\n",
    "    yaxis_type=\"log\",\n",
    "  )"
   ]
  },
  {
   "cell_type": "markdown",
   "metadata": {
    "id": "qxaki_fqYQ1p"
   },
   "source": [
    "#### Enveloped Half Sine\n",
    "\n",
    "Once a PVSS is calculated we have a function to find a half-sine pulse that would envelop that PVSS (this can make reproducing the event easy with a drop test). [See the docs for more](https://docs.endaq.com/en/latest/endaq/calc.html#endaq.calc.shock.enveloping_half_sine)."
   ]
  },
  {
   "cell_type": "code",
   "execution_count": null,
   "metadata": {
    "id": "8xkXKS4eYTm0",
    "pycharm": {
     "is_executing": true
    }
   },
   "outputs": [],
   "source": [
    "t = np.linspace(0,0.1,num=1000)  # NOTE: if there aren't enough samples, low-frequency artifacts will appear!\n",
    "\n",
    "def half_sine_pulse(t, T):\n",
    "    result = np.zeros_like(t)\n",
    "    result[(t > 0) & (t < T)] = np.sin(np.pi*t[(t > 0) & (t < T)] / T)\n",
    "    df_result = pd.DataFrame({'Time':t,\n",
    "                              'Pulse':result}).set_index('Time')\n",
    "    return df_result"
   ]
  },
  {
   "cell_type": "code",
   "execution_count": null,
   "metadata": {
    "colab": {
     "base_uri": "https://localhost:8080/",
     "height": 542
    },
    "id": "KQ_9yHZsYeAL",
    "outputId": "a79cdef1-24c6-4dca-ded4-7358f838b180",
    "pycharm": {
     "is_executing": true
    }
   },
   "outputs": [],
   "source": [
    "for c in ['No Low-Pass', 'Filtered at: 200 Hz']:\n",
    "\n",
    "  half_sine_params = endaq.calc.shock.enveloping_half_sine(pvss[c]/9.81/39.37, damp=0.05)\n",
    "  pvss_pulse = endaq.calc.shock.shock_spectrum(half_sine_params[0] * half_sine_pulse(t, T=half_sine_params[1]),\n",
    "                                              freqs=freqs, damp=0.05, mode='pvss')*9.81*39.37\n",
    "\n",
    "  fig.add_trace(go.Scattergl(\n",
    "      x=pvss_pulse.index,\n",
    "      y=pvss_pulse[pvss_pulse.columns[0]].values,\n",
    "      name='Half Sine of '+c+': '+str(np.round(half_sine_params[0],1))+'g, '+ str(np.round(half_sine_params[1],5)) +'s',\n",
    "      line_width=6,\n",
    "      line_dash='dot'\n",
    "  ))\n",
    "\n",
    "fig.show()  "
   ]
  },
  {
   "cell_type": "markdown",
   "metadata": {
    "id": "Ki-viS4qDcJo"
   },
   "source": [
    "#### Impact of Damping"
   ]
  },
  {
   "cell_type": "code",
   "execution_count": null,
   "metadata": {
    "id": "Pn79by_wDXTj",
    "pycharm": {
     "is_executing": true
    }
   },
   "outputs": [],
   "source": [
    "pvss_damping = pd.DataFrame()\n",
    "damps = [0, 0.025, 0.05, 0.10]\n",
    "for damp in damps:\n",
    "  pvss = endaq.calc.shock.shock_spectrum(accel['No Low-Pass'].to_frame(), freqs=freqs, damp=damp, mode='pvss')\n",
    "  name = 'Damping Ratio = '+str(damp)\n",
    "  pvss_damping[name] = pvss[pvss.columns[0]]*9.81*39.37 #convert to in/s"
   ]
  },
  {
   "cell_type": "code",
   "execution_count": null,
   "metadata": {
    "colab": {
     "base_uri": "https://localhost:8080/",
     "height": 542
    },
    "id": "bSjSzcZfEZ34",
    "outputId": "127ad7bb-92a3-4499-f188-22d9100bcb6b",
    "pycharm": {
     "is_executing": true
    }
   },
   "outputs": [],
   "source": [
    "fig = px.line(pvss_damping)\n",
    "fig.update_layout(\n",
    "    title_text='Impact of Damping on PVSS',\n",
    "    xaxis_title_text=\"Natural Frequency (Hz)\",\n",
    "    yaxis_title_text=\"Psuedo Velocity (in/s)\",\n",
    "    legend_title_text='',\n",
    "    xaxis_type=\"log\",\n",
    "    yaxis_type=\"log\",\n",
    "  )"
   ]
  },
  {
   "cell_type": "markdown",
   "metadata": {
    "id": "4kuTEfkMDz53"
   },
   "source": [
    "### Integration to Velocity"
   ]
  },
  {
   "cell_type": "code",
   "execution_count": null,
   "metadata": {
    "id": "OHpFpn-ZD1Vb",
    "pycharm": {
     "is_executing": true
    }
   },
   "outputs": [],
   "source": [
    "[df_accel, df_vel] = endaq.calc.integrate.integrals(accel, n=1, highpass_cutoff=None, tukey_percent=0)\n",
    "\n",
    "df_vel = df_vel-df_vel.iloc[0] #forced the starting velocity to 0\n",
    "df_vel = df_vel*9.81*39.37 #convert to in/s"
   ]
  },
  {
   "cell_type": "code",
   "execution_count": null,
   "metadata": {
    "colab": {
     "base_uri": "https://localhost:8080/",
     "height": 542
    },
    "id": "pBdPuKStqX9s",
    "outputId": "118fe7c8-0ddf-4ac8-9d76-584f39bf0824",
    "pycharm": {
     "is_executing": true
    }
   },
   "outputs": [],
   "source": [
    "fig = px.line(df_vel)\n",
    "fig.update_layout(\n",
    "    title_text=\"Integrated Velocity Time History\",\n",
    "    xaxis_title_text=\"\",\n",
    "    yaxis_title_text=\"Velocity (in/s)\",\n",
    "    legend_title_text=''\n",
    ")\n",
    "fig.show()"
   ]
  },
  {
   "cell_type": "markdown",
   "metadata": {
    "id": "yoJFblb-lITw"
   },
   "source": [
    "## Story 4: Moving Frequency"
   ]
  },
  {
   "cell_type": "code",
   "execution_count": null,
   "metadata": {
    "colab": {
     "base_uri": "https://localhost:8080/",
     "height": 454
    },
    "id": "Wkr_556oqbzc",
    "outputId": "8b5782e9-3e74-440c-87ab-a9c3a6421bd7",
    "pycharm": {
     "is_executing": true
    }
   },
   "outputs": [],
   "source": [
    "df_vibe = pd.read_csv('https://info.endaq.com/hubfs/data/motorcycle-vibration-moving-frequency.csv',index_col=0)\n",
    "df_vibe = df_vibe - df_vibe.median()\n",
    "df_vibe"
   ]
  },
  {
   "cell_type": "markdown",
   "metadata": {
    "id": "xTtBkARSUNTr"
   },
   "source": [
    "### Shaded Plot in Time"
   ]
  },
  {
   "cell_type": "code",
   "execution_count": null,
   "metadata": {
    "colab": {
     "base_uri": "https://localhost:8080/",
     "height": 542
    },
    "id": "l9DJU2FtTt7Q",
    "outputId": "072f4f03-a630-469c-bb27-d64a31554646",
    "pycharm": {
     "is_executing": true
    }
   },
   "outputs": [],
   "source": [
    "fig = endaq.plot.plots.rolling_min_max_envelope(\n",
    "    df_vibe,\n",
    "    desired_num_points=1000,\n",
    "    plot_as_bars=True,\n",
    "    opacity=1.0\n",
    "    )\n",
    "fig.update_layout(\n",
    "    accel_time_labels,\n",
    "    title_text='Engine Reving of Motorcycle',\n",
    ")\n",
    "fig.show()"
   ]
  },
  {
   "cell_type": "markdown",
   "metadata": {
    "id": "TuqBd4IQGZEX"
   },
   "source": [
    "### Spectrogram"
   ]
  },
  {
   "cell_type": "code",
   "execution_count": null,
   "metadata": {
    "colab": {
     "base_uri": "https://localhost:8080/",
     "height": 542
    },
    "id": "nGxyA8k_lKtE",
    "outputId": "cacd1511-1caa-4e11-9567-fe191d1bd700",
    "pycharm": {
     "is_executing": true
    }
   },
   "outputs": [],
   "source": [
    "freqs, bins, Pxx, fig = endaq.plot.octave_spectrogram(df_vibe[['Z (40g)']], \n",
    "                                                      window=0.5, \n",
    "                                                      bins_per_octave=12, \n",
    "                                                      max_freq=1000, \n",
    "                                                      freq_start=40)\n",
    "fig.show()"
   ]
  },
  {
   "cell_type": "markdown",
   "metadata": {
    "id": "s9IXoNSfGgYx"
   },
   "source": [
    "### Plot of Frequency vs Time"
   ]
  },
  {
   "cell_type": "code",
   "execution_count": null,
   "metadata": {
    "id": "hAOOnhsw4wpL",
    "pycharm": {
     "is_executing": true
    }
   },
   "outputs": [],
   "source": [
    "df_Pxx = pd.DataFrame(Pxx, index= freqs, columns = bins)\n",
    "df_Pxx = 10 ** (df_Pxx/10)"
   ]
  },
  {
   "cell_type": "code",
   "execution_count": null,
   "metadata": {
    "colab": {
     "base_uri": "https://localhost:8080/",
     "height": 542
    },
    "id": "U6mcuzN5lPnE",
    "outputId": "b87b118b-ebb6-419b-e0cd-81e6ecdb0db1",
    "pycharm": {
     "is_executing": true
    }
   },
   "outputs": [],
   "source": [
    "fig = px.line(df_Pxx[df_Pxx.index<500].idxmax())\n",
    "fig.update_layout(\n",
    "    title_text=\"Moving Peak Frequency\",\n",
    "    xaxis_title_text=\"\",\n",
    "    yaxis_title_text=\"Peak Frequency (Hz)\",\n",
    "    showlegend=False\n",
    ")\n",
    "fig.show()"
   ]
  },
  {
   "cell_type": "markdown",
   "metadata": {
    "id": "NhVPPkxs68Hf"
   },
   "source": [
    "### PSD Animation over Time\n",
    "\n",
    "Now we can prepare for creating an animation of the PSD over time."
   ]
  },
  {
   "cell_type": "code",
   "execution_count": null,
   "metadata": {
    "id": "pL1m9yh258BG",
    "pycharm": {
     "is_executing": true
    }
   },
   "outputs": [],
   "source": [
    "df_Pxx.index.name='Frequency (Hz)'\n",
    "df_Pxx.columns.name = 'Time (s)'\n",
    "df_Pxx.columns = np.round(df_Pxx.columns,2)"
   ]
  },
  {
   "cell_type": "markdown",
   "metadata": {
    "id": "djWbHeA6_EK_"
   },
   "source": [
    "Create base figure with animation, this will render fine but we'll want to add the other lines for scaling and reference."
   ]
  },
  {
   "cell_type": "code",
   "execution_count": null,
   "metadata": {
    "id": "cilfOzjg6PyQ",
    "pycharm": {
     "is_executing": true
    }
   },
   "outputs": [],
   "source": [
    "fig = px.line(\n",
    "    df_Pxx.reset_index().melt(id_vars='Frequency (Hz)'),\n",
    "    x='Frequency (Hz)',\n",
    "    y='value',\n",
    "    animation_frame='Time (s)',\n",
    "    log_x=True,\n",
    "    log_y=True,\n",
    ")"
   ]
  },
  {
   "cell_type": "markdown",
   "metadata": {
    "id": "nsXau03S_LaV"
   },
   "source": [
    "Add in the max, min, median, and mean lines."
   ]
  },
  {
   "cell_type": "code",
   "execution_count": null,
   "metadata": {
    "id": "pWkts0ew_OSr",
    "pycharm": {
     "is_executing": true
    }
   },
   "outputs": [],
   "source": [
    "def add_line(df_stat,name,dash,color):\n",
    "  fig.add_trace(go.Scattergl(\n",
    "    x=df_stat.index,\n",
    "    y=df_stat.values,\n",
    "    name=name,\n",
    "    line_width=3,\n",
    "    line_dash=dash,\n",
    "    line_color=color\n",
    "))\n",
    "\n",
    "#Add max, min, median\n",
    "for stat,dash,quant in zip(['Max','Min','Median'],\n",
    "                           ['dash','dash','dot'],\n",
    "                           [1.0,0.0,0.5]):\n",
    "  df_stat = df_Pxx.quantile(quant, axis=1)\n",
    "  add_line(df_stat,stat,dash,'#6914F0')\n",
    "\n",
    "#Add in mean\n",
    "df_stat = df_Pxx.mean(axis=1)\n",
    "add_line(df_stat,'Mean','dot','#2DB473')  "
   ]
  },
  {
   "cell_type": "code",
   "execution_count": null,
   "metadata": {
    "colab": {
     "base_uri": "https://localhost:8080/",
     "height": 542
    },
    "id": "En_Y1lSy_1KU",
    "outputId": "e7859ca4-5665-435c-ce30-013d6323e8c3",
    "pycharm": {
     "is_executing": true
    }
   },
   "outputs": [],
   "source": [
    "fig.update_layout(\n",
    "    legend_y=-0.7,\n",
    "    yaxis_title_text='Acceleration (g^2/Hz)'\n",
    ")\n",
    "fig.show()"
   ]
  },
  {
   "cell_type": "markdown",
   "metadata": {
    "id": "O9vdcJ3QAicJ"
   },
   "source": [
    "### Compare to Overall PSD"
   ]
  },
  {
   "cell_type": "code",
   "execution_count": null,
   "metadata": {
    "id": "C04AKza69MXR",
    "pycharm": {
     "is_executing": true
    }
   },
   "outputs": [],
   "source": [
    "psd = endaq.calc.psd.welch(df_vibe[['Z (40g)']], bin_width=0.25)\n",
    "oct_psd = endaq.calc.psd.to_octave(psd,octave_bins=12,fstart=40)"
   ]
  },
  {
   "cell_type": "code",
   "execution_count": null,
   "metadata": {
    "colab": {
     "base_uri": "https://localhost:8080/",
     "height": 542
    },
    "id": "t5WOJ7UE9cxe",
    "outputId": "bd890d2e-7b14-4769-b86f-1c1a3d9b2e6a",
    "pycharm": {
     "is_executing": true
    }
   },
   "outputs": [],
   "source": [
    "fig = px.line(oct_psd[oct_psd.index<=1000])\n",
    "fig.update_layout(\n",
    "    psd_labels\n",
    ")"
   ]
  },
  {
   "cell_type": "markdown",
   "metadata": {
    "id": "hZuj3VLC6qJy"
   },
   "source": [
    "## Story 5: Sound Data"
   ]
  },
  {
   "cell_type": "code",
   "execution_count": null,
   "metadata": {
    "colab": {
     "base_uri": "https://localhost:8080/",
     "height": 454
    },
    "id": "uJeSNaPt6pnY",
    "outputId": "9a9542ae-f13f-4a75-a950-9d83995c37f3",
    "pycharm": {
     "is_executing": true
    }
   },
   "outputs": [],
   "source": [
    "mic = endaq.ide.to_pandas(endaq.ide.get_doc('https://info.endaq.com/hubfs/data/sound/gangnam-style.ide').channels[8],time_mode='seconds')\n",
    "mic"
   ]
  },
  {
   "cell_type": "code",
   "execution_count": null,
   "metadata": {
    "id": "6TwAE0prKztb",
    "pycharm": {
     "is_executing": true
    }
   },
   "outputs": [],
   "source": [
    "mic = mic*-5.3075 #convert to Pa, this will be natively done with devices starting in the next month or so"
   ]
  },
  {
   "cell_type": "code",
   "execution_count": null,
   "metadata": {
    "colab": {
     "base_uri": "https://localhost:8080/",
     "height": 542
    },
    "id": "9ScvDqxg8Mug",
    "outputId": "f03c9601-b53d-4047-888a-bc9f3343a3e5",
    "pycharm": {
     "is_executing": true
    }
   },
   "outputs": [],
   "source": [
    "fig = endaq.plot.plots.rolling_min_max_envelope(\n",
    "    mic,\n",
    "    desired_num_points=1000,\n",
    "    plot_as_bars=True,\n",
    "    opacity=1.0\n",
    "    )\n",
    "fig.update_layout(\n",
    "    title_text='Gangnam Style, Then Fan',\n",
    "    yaxis_title_text='Sound Level (Pa)',\n",
    "    xaxis_title_text='',\n",
    "    showlegend=False\n",
    ")\n",
    "fig.show()"
   ]
  },
  {
   "cell_type": "markdown",
   "metadata": {
    "id": "vWV2KrGo7WxH"
   },
   "source": [
    "### Save .WAV File"
   ]
  },
  {
   "cell_type": "code",
   "execution_count": null,
   "metadata": {
    "id": "ShDZi9yh7ZHV",
    "pycharm": {
     "is_executing": true
    }
   },
   "outputs": [],
   "source": [
    "import scipy.io.wavfile\n",
    "\n",
    "mic_normalized = mic.copy()\n",
    "mic_normalized /= np.max(np.abs(mic_normalized),axis=0)\n",
    "\n",
    "scipy.io.wavfile.write(\n",
    "    'sound.wav',\n",
    "    int(np.round(1/endaq.calc.utils.sample_spacing(mic))),\n",
    "    mic_normalized.values.astype(np.float32),\n",
    ")\n"
   ]
  },
  {
   "cell_type": "markdown",
   "metadata": {
    "id": "QQ4lbTL190mc"
   },
   "source": [
    "### Play in Notebook"
   ]
  },
  {
   "cell_type": "code",
   "execution_count": null,
   "metadata": {
    "colab": {
     "base_uri": "https://localhost:8080/",
     "height": 75
    },
    "id": "UY_2Be9792CU",
    "outputId": "d5d18333-bbb4-417e-b659-f2853f77c37b",
    "pycharm": {
     "is_executing": true
    }
   },
   "outputs": [],
   "source": [
    "import IPython \n",
    "IPython.display.display(IPython.display.Audio('sound.wav'))"
   ]
  },
  {
   "cell_type": "markdown",
   "metadata": {
    "id": "_xKqm2b8-gFJ"
   },
   "source": [
    "### Convert to dB"
   ]
  },
  {
   "cell_type": "code",
   "execution_count": null,
   "metadata": {
    "id": "wSzA23_7FuC1",
    "pycharm": {
     "is_executing": true
    }
   },
   "outputs": [],
   "source": [
    "n = int(mic.shape[0]/100)\n",
    "rolling_pa = mic.rolling(n).std()[::n]\n",
    "rolling_dB = rolling_pa.apply(endaq.calc.utils.to_dB, reference=endaq.calc.utils.dB_refs[\"SPL\"], raw=True)"
   ]
  },
  {
   "cell_type": "code",
   "execution_count": null,
   "metadata": {
    "colab": {
     "base_uri": "https://localhost:8080/",
     "height": 542
    },
    "id": "jPArbJ-mGc7g",
    "outputId": "1b19103b-2953-4d14-ed6d-f2bed7cba8e1",
    "pycharm": {
     "is_executing": true
    }
   },
   "outputs": [],
   "source": [
    "fig = px.line(rolling_dB)\n",
    "fig.update_layout(\n",
    "    title_text='Gangnam Style, Then Fan Sound Level',\n",
    "    yaxis_title_text='Sound Level (dB)',\n",
    "    xaxis_title_text='',\n",
    "    showlegend=False\n",
    ")\n",
    "fig.show()"
   ]
  },
  {
   "cell_type": "markdown",
   "metadata": {
    "id": "RPB3xC3GWlUJ"
   },
   "source": [
    "### dB vs Frequency"
   ]
  },
  {
   "cell_type": "code",
   "execution_count": null,
   "metadata": {
    "id": "DGI2FVX-HTVa",
    "pycharm": {
     "is_executing": true
    }
   },
   "outputs": [],
   "source": [
    "df_pascal_psd = endaq.calc.psd.welch(mic, bin_width=1)\n",
    "df_pascal_octave = endaq.calc.psd.to_octave(df_pascal_psd*df_pascal_psd.index[1],agg=\"sum\",octave_bins=3, fstart=10)\n",
    "\n",
    "df_audio_psd_dB = df_pascal_octave.apply(endaq.calc.utils.to_dB, \n",
    "                                         reference=endaq.calc.utils.dB_refs[\"SPL\"]**2, \n",
    "                                         squared=True, \n",
    "                                         raw=True)"
   ]
  },
  {
   "cell_type": "code",
   "execution_count": null,
   "metadata": {
    "colab": {
     "base_uri": "https://localhost:8080/",
     "height": 542
    },
    "id": "p4f-EgYfHnPZ",
    "outputId": "70316514-de7e-4d32-d534-e3e5b89492b6",
    "pycharm": {
     "is_executing": true
    }
   },
   "outputs": [],
   "source": [
    "fig = px.line(df_audio_psd_dB)\n",
    "fig.update_layout(\n",
    "    title_text='Sound Level vs Frequency',\n",
    "    xaxis_title_text='Frequency (Hz)',\n",
    "    xaxis_type='log',\n",
    "    yaxis_title_text='Sound Level (dB)',\n",
    "    showlegend=False\n",
    ")"
   ]
  },
  {
   "cell_type": "markdown",
   "metadata": {
    "id": "f-UwV7OVWsIt"
   },
   "source": [
    "### Spectrogram"
   ]
  },
  {
   "cell_type": "code",
   "execution_count": null,
   "metadata": {
    "colab": {
     "base_uri": "https://localhost:8080/",
     "height": 542
    },
    "id": "Ec-BtYuWXLHm",
    "outputId": "224be7de-2ae4-4671-fdf2-d474c9aaae94",
    "pycharm": {
     "is_executing": true
    }
   },
   "outputs": [],
   "source": [
    "freqs, bins, Pxx, fig = endaq.plot.octave_spectrogram(mic, window=0.5, bins_per_octave=12, freq_start=40, max_freq=5000)\n",
    "fig.show()"
   ]
  },
  {
   "cell_type": "markdown",
   "metadata": {
    "id": "ggrKu-QeG88G"
   },
   "source": [
    "## enDAQ Cloud as an Alternative\n",
    "\n",
    "Our enDAQ cloud ([cloud.endaq.com](https://cloud.endaq.com/)) offers an environment to generate interactive dashboards for free without the need to write Python code.\n",
    "\n",
    "But what is especially unique is that our cloud also allows paying tiers (starting at $100/month) to customize these dashboards with code to accelerate the analysis cycle and allow deploying customizing dashboard generation to colleagues and customers without ever needing to install anything.\n",
    "\n",
    "Here is an example that has it's own [unique URL](https://cloud.endaq.com/user/dashboard/4dff0e96-1594-4cef-a364-2476ad1fb99a) for sharing with colleagues (requires log-in).\n",
    "\n",
    "![](https://info.endaq.com/hubfs/surgical-cloud-report.png)\n",
    "\n",
    "\n",
    "For more on generating these custom reports see our [Help Article](https://support.endaq.com/article/317-dynamic-reports-in-the-cloud)."
   ]
  },
  {
   "cell_type": "markdown",
   "metadata": {
    "id": "nbaQhB8bLI5s",
    "pycharm": {
     "name": "#%% md\n"
    }
   },
   "source": [
    "## What's Coming Next?\n",
    "\n",
    "More webinars and more functionality!\n",
    "\n",
    "1. User Requested Examples\n",
    "2. Release of endaq.batch for Batch Processing\n",
    "3. Updating enDAQ Cloud to Provide Access to New Python Library"
   ]
  }
 ],
 "metadata": {
  "colab": {
   "collapsed_sections": [],
   "name": "Webinar-Introduction-enDAQ-Library.ipynb",
   "provenance": [],
   "toc_visible": true
  },
  "kernelspec": {
   "display_name": "Python 3 (ipykernel)",
   "language": "python",
   "name": "python3"
  },
  "language_info": {
   "codemirror_mode": {
    "name": "ipython",
    "version": 3
   },
   "file_extension": ".py",
   "mimetype": "text/x-python",
   "name": "python",
   "nbconvert_exporter": "python",
   "pygments_lexer": "ipython3",
   "version": "3.8.8"
  }
 },
 "nbformat": 4,
 "nbformat_minor": 4
}
