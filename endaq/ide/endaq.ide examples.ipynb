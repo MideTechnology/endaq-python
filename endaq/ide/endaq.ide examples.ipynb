{
 "cells": [
  {
   "cell_type": "markdown",
   "id": "5d34f981",
   "metadata": {},
   "source": [
    "# `endaq.ide` usage examples\n",
    "For brevity, the following examples assume everything has been imported from `endaq.ide`:"
   ]
  },
  {
   "cell_type": "code",
   "execution_count": 1,
   "id": "2e1c7e9a",
   "metadata": {},
   "source": [
    "from endaq.ide import *"
   ],
   "outputs": []
  },
  {
   "cell_type": "markdown",
   "id": "ad299aa5",
   "metadata": {},
   "source": [
    "# Opening IDE files: `endaq.ide.get_doc()`\n",
    "`endaq.ide` includes a convenient shortcut for importing IDE data: `get_doc()`. It can load data from local files, or read data directly from a URL."
   ]
  },
  {
   "cell_type": "code",
   "execution_count": 2,
   "id": "e56ed446",
   "metadata": {
    "scrolled": true
   },
   "source": [
    "doc = get_doc(\"tests/test.ide\")\n",
    "doc1 = get_doc(\"https://info.endaq.com/hubfs/data/surgical-instrument.ide\")"
   ],
   "outputs": []
  },
  {
   "cell_type": "markdown",
   "id": "3bc35e49",
   "metadata": {},
   "source": [
    "IDE files can be retrieved directly from Google Drive using a Drive 'sharable link' URL. The file must be set to allow access to \"Anyone with the link.\""
   ]
  },
  {
   "cell_type": "code",
   "execution_count": 3,
   "id": "dd93af23",
   "metadata": {},
   "source": [
    "doc2 = get_doc(\"https://drive.google.com/file/d/1t3JqbZGhuZbIK9agH24YZIdVE26-NOF5/view?usp=sharing\")"
   ],
   "outputs": []
  },
  {
   "cell_type": "markdown",
   "id": "56d44599",
   "metadata": {},
   "source": [
    "Whether opening a local file or a URL, `get_doc()` can be used to import only a specific interval by way of its `start` and `end` parameters:"
   ]
  },
  {
   "cell_type": "code",
   "execution_count": 4,
   "id": "4f5180c3",
   "metadata": {},
   "source": [
    "doc3 = get_doc(\"tests/test.ide\", start=\"5s\", end=\"10s\")"
   ],
   "outputs": []
  },
  {
   "cell_type": "markdown",
   "id": "db4f550e",
   "metadata": {},
   "source": [
    "# Summarizing IDE files: `endaq.ide.get_channel_table()`\n",
    "Once an IDE file has been loaded, `endaq.ide.get_channel_table()` will retrieve basic summary information about its contents."
   ]
  },
  {
   "cell_type": "code",
   "execution_count": 5,
   "id": "9ff1c8f0",
   "metadata": {
    "scrolled": true
   },
   "source": [
    "get_channel_table(doc)"
   ],
   "outputs": []
  },
  {
   "cell_type": "markdown",
   "id": "0de5f8fe",
   "metadata": {},
   "source": [
    "The results can be filtered by measurement type:"
   ]
  },
  {
   "cell_type": "code",
   "execution_count": 6,
   "id": "b82ac038",
   "metadata": {
    "scrolled": false
   },
   "source": [
    "get_channel_table(doc, ACCELERATION)"
   ],
   "outputs": []
  },
  {
   "cell_type": "markdown",
   "id": "ccb7f94d",
   "metadata": {},
   "source": [
    "Measurement types can be combined to retrieve more than one:"
   ]
  },
  {
   "cell_type": "code",
   "execution_count": 7,
   "id": "65b0e5d1",
   "metadata": {
    "scrolled": true
   },
   "source": [
    "get_channel_table(doc, ACCELERATION+TEMPERATURE)"
   ],
   "outputs": []
  },
  {
   "cell_type": "markdown",
   "id": "9bc36cab",
   "metadata": {},
   "source": [
    "Information about a specific interval can be retrieved by using the `start` and/or `end` arguments. Note that due to different sampling rates, the start and end times for slower channels may not precisely match the specified `start` or `end`."
   ]
  },
  {
   "cell_type": "code",
   "execution_count": 8,
   "id": "bc3f39be",
   "metadata": {},
   "source": [
    "get_channel_table(doc, ACCELERATION+TEMPERATURE, start=\"0:05\", end=\"0:10\")"
   ],
   "outputs": []
  },
  {
   "cell_type": "markdown",
   "id": "8bfff52d",
   "metadata": {},
   "source": [
    "# Extracting intervals: `endaq.ide.extract_time()`\n",
    "A portion of an IDE file can be saved to another, new IDE. The source can be a local filename or an opened IDE (from a file or URL)."
   ]
  },
  {
   "cell_type": "code",
   "execution_count": null,
   "id": "2423edf3",
   "metadata": {},
   "source": [
    "extract_time(\"tests/test.ide\", \"doc_extracted.ide\", start=\"0:05\", end=\"0:10\")\n",
    "extract_time(doc1, \"doc1_extracted.ide\", start=\"0:05\", end=\"0:10\")"
   ],
   "outputs": []
  },
  {
   "cell_type": "markdown",
   "id": "58cf1c20",
   "metadata": {},
   "source": [
    "# Additional sample IDE recording files\n",
    "Here are a number of example IDE files, which may be used with `endaq.ide`:"
   ]
  },
  {
   "cell_type": "code",
   "execution_count": null,
   "id": "8a151765",
   "metadata": {},
   "source": [
    "file_urls = ['https://info.endaq.com/hubfs/data/surgical-instrument.ide', \n",
    "             'https://info.endaq.com/hubfs/data/97c3990f-Drive-Home_70-1616632444.ide', \n",
    "             'https://info.endaq.com/hubfs/data/High-Drop.ide',\n",
    "             'https://info.endaq.com/hubfs/data/HiTest-Shock.ide', \n",
    "             'https://info.endaq.com/hubfs/data/Drive-Home_01.ide', \n",
    "             'https://info.endaq.com/hubfs/data/Tower-of-Terror.ide',\n",
    "             'https://info.endaq.com/hubfs/data/Punching-Bag.ide', \n",
    "             'https://info.endaq.com/hubfs/data/Gun-Stock.ide',\n",
    "             'https://info.endaq.com/hubfs/data/Seat-Base_21.ide',\n",
    "             'https://info.endaq.com/hubfs/data/Seat-Top_09.ide', \n",
    "             'https://info.endaq.com/hubfs/data/Bolted.ide',\n",
    "             'https://info.endaq.com/hubfs/data/Motorcycle-Car-Crash.ide', \n",
    "             'https://info.endaq.com/hubfs/data/train-passing.ide', \n",
    "             'https://info.endaq.com/hubfs/data/baseball.ide',\n",
    "             'https://info.endaq.com/hubfs/data/Clean-Room-VC.ide',\n",
    "             'https://info.endaq.com/hubfs/data/enDAQ_Cropped.ide',\n",
    "             'https://info.endaq.com/hubfs/data/Drive-Home_07.ide',\n",
    "             'https://info.endaq.com/hubfs/data/ford_f150.ide',\n",
    "             'https://info.endaq.com/hubfs/data/Drive-Home.ide',\n",
    "             'https://info.endaq.com/hubfs/data/Mining-Data.ide',\n",
    "             'https://info.endaq.com/hubfs/data/Mide-Airport-Drive-Lexus-Hybrid-Dash-W8.ide'] "
   ],
   "outputs": []
  },
  {
   "cell_type": "markdown",
   "id": "d9ade002",
   "metadata": {},
   "source": [
    "These can be directly read from endaq.com using `endaq.ide.get_doc()`, as previously described."
   ]
  }
 ],
 "metadata": {
  "kernelspec": {
   "display_name": "Python 3",
   "language": "python",
   "name": "python3"
  },
  "language_info": {
   "codemirror_mode": {
    "name": "ipython",
    "version": 3
   },
   "file_extension": ".py",
   "mimetype": "text/x-python",
   "name": "python",
   "nbconvert_exporter": "python",
   "pygments_lexer": "ipython3",
   "version": "3.9.6"
  }
 },
 "nbformat": 4,
 "nbformat_minor": 5
}
