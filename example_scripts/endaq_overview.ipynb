{
 "cells": [
  {
   "cell_type": "code",
   "execution_count": null,
   "id": "4e157275-8f2d-4906-9b0d-a9bb72e93625",
   "metadata": {},
   "outputs": [],
   "source": [
    "import pathlib\n",
    "\n",
    "import numpy as np\n",
    "import pandas as pd\n",
    "import scipy\n",
    "\n",
    "import plotly.express as xp\n",
    "import plotly.graph_objects as go\n",
    "\n",
    "import idelib\n",
    "import endaq.ide\n",
    "import endaq.calc\n",
    "import endaq.plot.plots\n",
    "from endaq.plot.plots import gen_map\n",
    "\n",
    "# from endaq.plot. import gen_map\n",
    "import endaq.cloud\n",
    "import endaq.io"
   ]
  },
  {
   "cell_type": "markdown",
   "id": "ba813afc-600c-49d3-8d1b-f9b6d5539805",
   "metadata": {},
   "source": [
    "# IDE Files with `idelib` & `endaq.ide`"
   ]
  },
  {
   "cell_type": "markdown",
   "id": "c61f4b54-8eb0-41c3-905d-f3c818a1df46",
   "metadata": {},
   "source": [
    "## Open an IDE File"
   ]
  },
  {
   "cell_type": "code",
   "execution_count": null,
   "id": "1da0a5b0-befd-4246-896a-21a980a0ca04",
   "metadata": {},
   "outputs": [],
   "source": [
    "filename = pathlib.Path(\"test.IDE\")\n",
    "\n",
    "dataset = idelib.importFile(filename)"
   ]
  },
  {
   "cell_type": "markdown",
   "id": "a82630e8-0418-4bd3-86c7-406bf0a70a25",
   "metadata": {},
   "source": [
    "## Explore Data"
   ]
  },
  {
   "cell_type": "code",
   "execution_count": null,
   "id": "28553ba1-f6c3-4a51-8c90-d37dfac79218",
   "metadata": {},
   "outputs": [],
   "source": [
    "table = endaq.ide.get_channel_table(dataset)\n",
    "table"
   ]
  },
  {
   "cell_type": "markdown",
   "id": "a64266fa-a62b-4104-9a45-26a66e823314",
   "metadata": {},
   "source": [
    "## Get Sensor Data"
   ]
  },
  {
   "cell_type": "code",
   "execution_count": null,
   "id": "9d181e9b-f04d-49d4-aa4f-f058636cd790",
   "metadata": {},
   "outputs": [],
   "source": [
    "accel_chs = endaq.ide.get_channels(dataset, measurement_type=endaq.ide.ACCELERATION, subchannels=False)\n",
    "accel_chs"
   ]
  },
  {
   "cell_type": "code",
   "execution_count": null,
   "id": "da9b9ee9-ae67-40fe-915e-9e3c723f51ff",
   "metadata": {},
   "outputs": [],
   "source": [
    "def to_pandas(ch):\n",
    "    data = ch.getSession().arraySlice()\n",
    "    t, data = (1000*data[0]).astype(\"timedelta64[ns]\"), data[1:].T\n",
    "    return pd.DataFrame(data, index=t, columns=[sch.name for sch in ch.subchannels])\n",
    "\n",
    "df_accel = to_pandas(accel_chs[0])\n",
    "df_accel = df_accel.loc[np.timedelta64(3990, 's'): np.timedelta64(4000, 's')]\n",
    "display(df_accel)\n",
    "fig = xp.line(df_accel, x=df_accel.index, y=df_accel.columns)\n",
    "fig.show()"
   ]
  },
  {
   "cell_type": "markdown",
   "id": "ab377182-e1c1-4bcd-9b59-2b72d35dfb37",
   "metadata": {},
   "source": [
    "# Calculations with `scipy` & `endaq.calc`"
   ]
  },
  {
   "cell_type": "code",
   "execution_count": null,
   "id": "3141bc7c-9c18-4417-bc33-a3bf84403382",
   "metadata": {},
   "outputs": [],
   "source": [
    "import endaq.calc.filters\n",
    "import endaq.calc.psd\n",
    "import endaq.calc.shock\n",
    "import endaq.calc.integrate"
   ]
  },
  {
   "cell_type": "markdown",
   "id": "f231a532-190a-44ec-a9d8-d9c9b250e7ba",
   "metadata": {},
   "source": [
    "## Filters"
   ]
  },
  {
   "cell_type": "code",
   "execution_count": null,
   "id": "fbe1ef37-11d9-4bf3-a7d5-64666e8e76c8",
   "metadata": {},
   "outputs": [],
   "source": [
    "df_accel_hp = endaq.calc.filters.butterworth(df_accel, low_cutoff=1, high_cutoff=None)\n",
    "fig = xp.line(df_accel_hp, x=df_accel_hp.index, y=df_accel_hp.columns)\n",
    "fig.show()"
   ]
  },
  {
   "cell_type": "code",
   "execution_count": null,
   "id": "da11a58c-38b1-47e2-a313-d0055cdbf40b",
   "metadata": {},
   "outputs": [],
   "source": [
    "df_accel_lp = endaq.calc.filters.butterworth(df_accel, low_cutoff=None, high_cutoff=100)\n",
    "fig = xp.line(df_accel_lp, x=df_accel_lp.index, y=df_accel_lp.columns)\n",
    "fig.show()"
   ]
  },
  {
   "cell_type": "markdown",
   "id": "8ae1642f-e9be-4210-bbc1-03a46dca8ec5",
   "metadata": {},
   "source": [
    "## Integration"
   ]
  },
  {
   "cell_type": "code",
   "execution_count": null,
   "id": "3e94b034-2342-4145-82f1-537d77e52a2a",
   "metadata": {},
   "outputs": [],
   "source": [
    "dfs_integrate = endaq.calc.integrate.integrals(df_accel, n=2, highpass_cutoff=1.0)\n",
    "\n",
    "for df in dfs_integrate:\n",
    "    fig = xp.line(df, x=df.index, y=df.columns)\n",
    "    fig.show()"
   ]
  },
  {
   "cell_type": "markdown",
   "id": "8e937f3e-6b3a-4b83-8080-b18295d8ce88",
   "metadata": {
    "tags": []
   },
   "source": [
    "## PSD"
   ]
  },
  {
   "cell_type": "markdown",
   "id": "0f181ad2-7a9c-4582-979e-ae3dafb5ab01",
   "metadata": {},
   "source": [
    "### Linearly-spaced"
   ]
  },
  {
   "cell_type": "code",
   "execution_count": null,
   "id": "d1e00ff3-a3e4-450a-8cd1-b1997ee415d9",
   "metadata": {},
   "outputs": [],
   "source": [
    "dt = (df_accel.index[-1] - df_accel.index[0]) / (len(df_accel) - 1)\n",
    "fs = np.timedelta64(1, \"s\") / dt\n",
    "df_accel_psd = endaq.calc.psd.scipy_welch(df_accel, nperseg=int(11 * fs))\n",
    "\n",
    "fig = xp.line(df_accel_psd, x=df_accel_psd.index, y=df_accel_psd.columns, log_x=True, log_y=True)\n",
    "fig.show()"
   ]
  },
  {
   "cell_type": "markdown",
   "id": "5d30fc4d-caf5-4cc0-af9a-85265dc9c641",
   "metadata": {
    "tags": []
   },
   "source": [
    "### Octave-spaced"
   ]
  },
  {
   "cell_type": "markdown",
   "id": "94e8d54a-6459-4986-ac47-665c34500a18",
   "metadata": {
    "tags": []
   },
   "source": [
    "# Plotting with `plotly` & `endaq.plot`"
   ]
  },
  {
   "cell_type": "markdown",
   "id": "b6ba2949-74f1-40e1-9259-f9f906fbd7f6",
   "metadata": {
    "tags": []
   },
   "source": [
    "### Derivatives & Integrals"
   ]
  },
  {
   "cell_type": "code",
   "execution_count": null,
   "id": "29de6020-9579-48a2-a3fa-c44e0f074c65",
   "metadata": {},
   "outputs": [],
   "source": [
    "dt = (df_accel.index[-1] - df_accel.index[0]) / (len(df_accel) - 1)\n",
    "fs = np.timedelta64(1, \"s\") / dt\n",
    "df_accel_psd = endaq.calc.psd.scipy_welch(df_accel, nperseg=int(11 * fs))\n",
    "\n",
    "df_vel_psd = endaq.calc.psd.differentiate(df_accel_psd, n=-1)\n",
    "fig = xp.line(df_vel_psd, x=df_vel_psd.index, y=df_vel_psd.columns, log_x=True, log_y=True)\n",
    "fig.show()\n",
    "\n",
    "df_jerk_psd = endaq.calc.psd.differentiate(df_accel_psd, n=1)\n",
    "fig = xp.line(df_jerk_psd, x=df_jerk_psd.index, y=df_jerk_psd.columns, log_x=True, log_y=True)\n",
    "fig.show()"
   ]
  },
  {
   "cell_type": "markdown",
   "id": "0694bf52-c946-4731-9b49-b9e68d5872df",
   "metadata": {},
   "source": [
    "### Vibration Criterion (VC) Curves"
   ]
  },
  {
   "cell_type": "code",
   "execution_count": null,
   "id": "53f04e63-5533-4b96-b265-3ef8d57c652b",
   "metadata": {},
   "outputs": [],
   "source": [
    "dt = (df_accel.index[-1] - df_accel.index[0]) / (len(df_accel) - 1)\n",
    "fs = np.timedelta64(1, \"s\") / dt\n",
    "df_accel_psd = endaq.calc.psd.scipy_welch(df_accel, nperseg=int(11 * fs))\n",
    "df_accel_vc = endaq.calc.psd.vc_curves(df_accel_psd, fstart=1, octave_bins=3)\n",
    "\n",
    "fig = xp.line(df_accel_vc, x=df_accel_vc.index, y=df_accel_vc.columns, log_x=True, log_y=True)\n",
    "fig.show()"
   ]
  },
  {
   "cell_type": "markdown",
   "id": "bb46d50f-9425-4507-afbf-1bf22338b7d0",
   "metadata": {
    "tags": []
   },
   "source": [
    "## Shock Analysis"
   ]
  },
  {
   "cell_type": "code",
   "execution_count": null,
   "id": "a9d83c3b-74cb-4724-96f3-5fc2b101ea69",
   "metadata": {},
   "outputs": [],
   "source": [
    "df_accel_pvss = endaq.calc.shock.pseudo_velocity(df_accel, freqs=2 ** np.arange(-3, 13, 0.25), damp=0.05)\n",
    "\n",
    "fig = xp.line(df_accel_pvss, x=df_accel_pvss.index, y=df_accel_pvss.columns, log_x=True, log_y=True)\n",
    "fig.show()"
   ]
  },
  {
   "cell_type": "markdown",
   "id": "ecb183c7-8ca5-4d3f-a1fc-3fa51b5c8efc",
   "metadata": {},
   "source": [
    "## Shock Characterization: Half-Sine-Wave Pulse"
   ]
  },
  {
   "cell_type": "code",
   "execution_count": null,
   "id": "30e11491-7dda-499f-bfd8-0c13cb244542",
   "metadata": {},
   "outputs": [],
   "source": [
    "half_sine_params = endaq.calc.shock.half_sine_shock_envelope(df_accel_pvss, damp=0.05)\n",
    "half_sine_params"
   ]
  },
  {
   "cell_type": "markdown",
   "id": "6ac98e65-6f39-4e25-93d3-3b0e0acacdf4",
   "metadata": {},
   "source": [
    "## GPS Plot"
   ]
  },
  {
   "cell_type": "code",
   "execution_count": null,
   "id": "aee259ae-b73e-48b9-b0d7-e3b67daaeb5f",
   "metadata": {},
   "outputs": [],
   "source": [
    "gps_data = pd.DataFrame(\n",
    "    \n",
    ")"
   ]
  },
  {
   "cell_type": "code",
   "execution_count": null,
   "id": "f00f8330-06b1-45cf-a133-8cff12fb221c",
   "metadata": {},
   "outputs": [],
   "source": [
    "def get_doc(url):\n",
    "    r = requests.get(url)\n",
    "    f = io.BytesIO(r.content)\n",
    "\n",
    "    doc = idelib.importer.openFile(f, getExitCond=False, quiet=True)\n",
    "    idelib.importer.readData(doc)\n",
    "    doc.__dict__\n",
    "    return doc\n",
    "\n",
    "\n",
    "def get_channels_table(doc):\n",
    "    column_strings = [\n",
    "        \"CH #\",\n",
    "        \"Sub ID\",\n",
    "        \"CH ID\",\n",
    "        \"Channel Name\",\n",
    "        \"Subchannel Name\",\n",
    "        \"Type\",\n",
    "        \"Units\",\n",
    "        \"Remove Mean\",\n",
    "        #\"Length\",\n",
    "    ]\n",
    "\n",
    "    df_ide = pd.DataFrame(columns=column_strings)\n",
    "\n",
    "    dicts = list(doc.channels.items())\n",
    "    for j in range(len(dicts)):\n",
    "        channel_id = list(dicts[j])[0]\n",
    "        cur_channel = doc.channels[channel_id]\n",
    "        for i in cur_channel.subchannels:\n",
    "            index_loc = i.id / 10 + channel_id\n",
    "\n",
    "            df_ide.loc[index_loc, column_strings] = [\n",
    "                j, i.id, channel_id, cur_channel.displayName, i.displayName, i.units[0], i.units[1],\n",
    "                cur_channel.allowMeanRemoval]\n",
    "\n",
    "            df_ide.loc[index_loc, \"Length\"] = len(cur_channel.getSession())\n",
    "\n",
    "    return df_ide\n",
    "\n",
    "\n",
    "def get_channel(doc, channel_id):\n",
    "    Data = doc.channels[channel_id].getSession().arraySlice().T\n",
    "\n",
    "    names = [\"Time (s)\"]\n",
    "    for i in doc.channels[channel_id].subchannels:\n",
    "        names.append(i.displayName)\n",
    "\n",
    "    df = pd.DataFrame(data=Data, columns=names)\n",
    "    df[\"Time (s)\"] = df[\"Time (s)\"] / 1e6\n",
    "\n",
    "    return df.set_index(\"Time (s)\")\n",
    "\n",
    "\n",
    "def get_channel_ids(doc):\n",
    "    return [list(d)[0] for d in list(doc.channels.items())]\n",
    "\n",
    "\n",
    "def get_sample_rate(df):\n",
    "    return len(df) / (df.index[-1] - df.index[0])\n",
    "\n",
    "\n",
    "def get_all_channels(df_ide, doc):\n",
    "    dfs = []\n",
    "    df_ide[\"Frequency (Hz)\"] = 0\n",
    "    df_ide[\"Length\"] = 0\n",
    "    df_ide[\"STD\"] = 0\n",
    "    df_ide[\"Max\"] = 0\n",
    "    df_ide[\"Min\"] = 0\n",
    "    for i in get_channel_ids(doc):\n",
    "        df = get_channel(doc, i)\n",
    "        fs = get_sample_rate(df)\n",
    "        remove_mean = df_ide.loc[df_ide[\"CH ID\"] == i, \"Remove Mean\"].iloc[0]\n",
    "        if remove_mean:\n",
    "            df -= df.mean()\n",
    "\n",
    "        for c in df.columns:\n",
    "            df_ide.loc[df_ide[\"Subchannel Name\"] == c, ['STD', 'Max', 'Min']] = (df[c].std(), df[c].max(), df[c].min())\n",
    "\n",
    "        dfs.append(df)\n",
    "\n",
    "        df_ide.loc[df_ide[\"CH ID\"] == i, [\"Frequency (Hz)\", \"Length\"]] = (fs, len(df))\n",
    "        \n",
    "    df_ide[\"Name\"] = (\n",
    "            df_ide[\"CH ID\"].astype(str)\n",
    "            + \".\"\n",
    "            + df_ide[\"Sub ID\"].astype(str)\n",
    "            + \": \"\n",
    "            + df_ide[\"Subchannel Name\"]\n",
    "            + \" [\"\n",
    "            + df_ide[\"Units\"]\n",
    "            + \"]\"\n",
    "    )\n",
    "    return df_ide, dfs\n",
    "\n",
    "def get_channel_ids(doc):\n",
    "    return [list(d)[0] for d in list(doc.channels.items())]"
   ]
  },
  {
   "cell_type": "code",
   "execution_count": null,
   "id": "1c33cd3f-c6c1-406f-88c7-ef317c9c41e7",
   "metadata": {},
   "outputs": [],
   "source": [
    "doc_table, dfs = get_all_channels(get_channels_table(dataset), dataset)"
   ]
  },
  {
   "cell_type": "code",
   "execution_count": null,
   "id": "4b14ad2a-9ed8-4162-b9d6-3cc0d0b7e1c3",
   "metadata": {},
   "outputs": [],
   "source": [
    "doc_channel_ids = get_channel_ids(dataset)\n",
    "right_fig = gen_map(dfs[doc_channel_ids.index(88)], mapbox_access_token=\"pk.eyJ1IjoiaGFubWFuNDI5IiwiYSI6ImNrbGlmd3o4eTVsYmgycHVpdHBjajJqa3gifQ.D_b7Pt2xW7H_fqqZzqBQHQ\")\n",
    "\n",
    "# endaq.plot.plots.gen_map(dfs\n",
    "right_fig\n",
    "# dfs[doc_channel_ids.index(88)]"
   ]
  },
  {
   "cell_type": "code",
   "execution_count": null,
   "id": "8d929493-5751-47de-bdde-38b2b36a5fd1",
   "metadata": {},
   "outputs": [],
   "source": [
    "xp.line(dfs[1], dfs[1].index, 'Acceleration: X (40g)')"
   ]
  },
  {
   "cell_type": "code",
   "execution_count": null,
   "id": "4fdbc497-9271-432a-9bec-962419426f39",
   "metadata": {},
   "outputs": [],
   "source": []
  }
 ],
 "metadata": {
  "kernelspec": {
   "display_name": "Python 3 (ipykernel)",
   "language": "python",
   "name": "python3"
  },
  "language_info": {
   "codemirror_mode": {
    "name": "ipython",
    "version": 3
   },
   "file_extension": ".py",
   "mimetype": "text/x-python",
   "name": "python",
   "nbconvert_exporter": "python",
   "pygments_lexer": "ipython3",
   "version": "3.9.6"
  }
 },
 "nbformat": 4,
 "nbformat_minor": 5
}
